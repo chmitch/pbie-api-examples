{
  "cells": [
    {
      "cell_type": "markdown",
      "source": [
        "## Update Capacity\n",
        "\n",
        "Fabric Capacity is an Azure Resource that is manipulated via the Azure Management API (management.azure.com).  After a capacity has been provisioned you may have need to programatically change attributes of the capacity.  For example you may need to change the size of the capacity or perhaps the list of administrators of the capacity.  The key difference in this notebook is we'll be using the PATCH method on the rest endpoint instead of the PUT method.  This example shows updating the capacity we created with the CreateCapacity.ipynb notebook with an F2 capacity to an F4 capacity.\n",
        "\n",
        "### Notes:\n",
        "1. Constants this notebook depends on are set globally in the [/services/env.py](/services/env.py) class file.\n",
        "1. This API is not intelligent enough to create the capacity if it does not exist, so it assumes the capacity already exists, if a matching capacity does not exist an error will be thrown.\n",
        "1. If you're working through the notebooks in this sample, this notebook is simply changing the size of the capacity from an F2 to an F4.\n",
        "1. I was unable to find documentation for this specific resource type.  I reverse engineered this call by using the Azure Portal and choosing 'Download a Template' option during resoruce creation."
      ],
      "metadata": {
        "nteract": {
          "transient": {
            "deleting": false
          }
        }
      }
    },
    {
      "cell_type": "code",
      "source": [
        "pip install requests msal"
      ],
      "outputs": [],
      "execution_count": null,
      "metadata": {
        "gather": {
          "logged": 1716557444548
        }
      }
    },
    {
      "cell_type": "code",
      "source": [
        "#For orgaization purposes I put notbooks in subfolders not the root of the proejct.aad_token\n",
        "#This code adds the root directory of the project to the sys path so we can load class modules from the services folder\n",
        "#I think this only needs to be run once, but including it for completeness.\n",
        "import os, sys\n",
        "projectRoot = os.path.abspath('.')\n",
        "directory = os.path.dirname(projectRoot)\n",
        "if not directory in sys.path: sys.path.append(directory)"
      ],
      "outputs": [],
      "execution_count": null,
      "metadata": {
        "jupyter": {
          "source_hidden": false,
          "outputs_hidden": false
        },
        "nteract": {
          "transient": {
            "deleting": false
          }
        },
        "gather": {
          "logged": 1716557444652
        }
      }
    },
    {
      "cell_type": "code",
      "source": [
        "#This leverages the code encapsulated in services/aadservice.py that encapsulates the service principle login.\n",
        "#Note: for most of the other notebooks we're not passing in a scope, this is because the code in aadservice.property\n",
        "#defaults the scope to a scope for the Power BI API.   Since we're calling the azure management API we need a different\n",
        "#scope.\n",
        "from services.aadservice import AadService\n",
        "scope = 'https://management.azure.com/.default'\n",
        "aadToken = AadService.get_access_token(scope)\n",
        "\n",
        "headers =  {'Content-Type': 'application/json', 'Authorization': 'Bearer ' + aadToken}"
      ],
      "outputs": [],
      "execution_count": null,
      "metadata": {
        "jupyter": {
          "source_hidden": false,
          "outputs_hidden": false
        },
        "nteract": {
          "transient": {
            "deleting": false
          }
        },
        "gather": {
          "logged": 1716557447429
        }
      }
    },
    {
      "cell_type": "code",
      "source": [
        "import requests\n",
        "import json\n",
        "from services.env import const\n",
        "\n",
        "apiUrl = f'https://management.azure.com/subscriptions/{const.subscriptionId}/resourceGroups/{const.resourceGroup}/providers/Microsoft.Fabric/capacities/{const.capacityName}?api-version=2022-07-01-preview'       \n",
        "\n",
        "body = { \n",
        "            \"type\": \"Microsoft.Fabric/capacities\",\n",
        "            \"name\": const.capacityName,\n",
        "            \"location\": \"westus3\",\n",
        "            \"sku\": {\n",
        "                \"name\": \"F4\",\n",
        "                \"tier\": \"Fabric\"\n",
        "            },\n",
        "            \"properties\": {\n",
        "                \"administration\": {\n",
        "                    \"members\": const.administrators\n",
        "                }\n",
        "            }\n",
        "        }\n",
        "\n",
        "apiResponse = requests.put(apiUrl, headers=headers, data=json.dumps(body))\n",
        "\n",
        "#error handling for create capacity\n",
        "if apiResponse.status_code != 201 and apiResponse.status_code != 200:\n",
        "    description = f'Error creating capacity:\\n  -Status Code:\\t{apiResponse.status_code}\\n  -Reason:\\t{apiResponse.reason}\\n  -RequestId:\\t{apiResponse.headers.get(\"RequestId\")}\\n  -Text:\\t{apiResponse.text}'\n",
        "    print(description)\n",
        "else:\n",
        "    apiResponse = json.loads(apiResponse.text)\n",
        "    print(json.dumps(apiResponse,indent=2))"
      ],
      "outputs": [],
      "execution_count": null,
      "metadata": {
        "jupyter": {
          "source_hidden": false,
          "outputs_hidden": false
        },
        "nteract": {
          "transient": {
            "deleting": false
          }
        },
        "gather": {
          "logged": 1716557449436
        }
      }
    },
    {
      "cell_type": "code",
      "source": [],
      "outputs": [],
      "execution_count": null,
      "metadata": {
        "jupyter": {
          "source_hidden": false,
          "outputs_hidden": false
        },
        "nteract": {
          "transient": {
            "deleting": false
          }
        }
      }
    }
  ],
  "metadata": {
    "kernelspec": {
      "name": "python310-sdkv2",
      "language": "python",
      "display_name": "Python 3.10 - SDK v2"
    },
    "language_info": {
      "name": "python",
      "version": "3.10.11",
      "mimetype": "text/x-python",
      "codemirror_mode": {
        "name": "ipython",
        "version": 3
      },
      "pygments_lexer": "ipython3",
      "nbconvert_exporter": "python",
      "file_extension": ".py"
    },
    "microsoft": {
      "ms_spell_check": {
        "ms_spell_check_language": "en"
      },
      "host": {
        "AzureML": {
          "notebookHasBeenCompleted": true
        }
      }
    },
    "kernel_info": {
      "name": "python310-sdkv2"
    },
    "nteract": {
      "version": "nteract-front-end@1.0.0"
    }
  },
  "nbformat": 4,
  "nbformat_minor": 2
}