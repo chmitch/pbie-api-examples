{
  "cells": [
    {
      "cell_type": "code",
      "source": [
        "pip install azure-identity"
      ],
      "outputs": [
        {
          "output_type": "stream",
          "name": "stdout",
          "text": "Requirement already satisfied: azure-identity in /anaconda/envs/azureml_py310_sdkv2/lib/python3.10/site-packages (1.13.0)\nRequirement already satisfied: azure-core<2.0.0,>=1.11.0 in /anaconda/envs/azureml_py310_sdkv2/lib/python3.10/site-packages (from azure-identity) (1.30.1)\nRequirement already satisfied: cryptography>=2.5 in /anaconda/envs/azureml_py310_sdkv2/lib/python3.10/site-packages (from azure-identity) (41.0.1)\nRequirement already satisfied: msal<2.0.0,>=1.20.0 in /anaconda/envs/azureml_py310_sdkv2/lib/python3.10/site-packages (from azure-identity) (1.22.0)\nRequirement already satisfied: msal-extensions<2.0.0,>=0.3.0 in /anaconda/envs/azureml_py310_sdkv2/lib/python3.10/site-packages (from azure-identity) (1.0.0)\nRequirement already satisfied: six>=1.12.0 in /anaconda/envs/azureml_py310_sdkv2/lib/python3.10/site-packages (from azure-identity) (1.16.0)\nRequirement already satisfied: requests>=2.21.0 in /anaconda/envs/azureml_py310_sdkv2/lib/python3.10/site-packages (from azure-core<2.0.0,>=1.11.0->azure-identity) (2.31.0)\nRequirement already satisfied: typing-extensions>=4.6.0 in /anaconda/envs/azureml_py310_sdkv2/lib/python3.10/site-packages (from azure-core<2.0.0,>=1.11.0->azure-identity) (4.6.3)\nRequirement already satisfied: cffi>=1.12 in /anaconda/envs/azureml_py310_sdkv2/lib/python3.10/site-packages (from cryptography>=2.5->azure-identity) (1.15.1)\nRequirement already satisfied: PyJWT[crypto]<3,>=1.0.0 in /anaconda/envs/azureml_py310_sdkv2/lib/python3.10/site-packages (from msal<2.0.0,>=1.20.0->azure-identity) (2.7.0)\nRequirement already satisfied: portalocker<3,>=1.0 in /anaconda/envs/azureml_py310_sdkv2/lib/python3.10/site-packages (from msal-extensions<2.0.0,>=0.3.0->azure-identity) (2.7.0)\nRequirement already satisfied: pycparser in /anaconda/envs/azureml_py310_sdkv2/lib/python3.10/site-packages (from cffi>=1.12->cryptography>=2.5->azure-identity) (2.21)\nRequirement already satisfied: charset-normalizer<4,>=2 in /anaconda/envs/azureml_py310_sdkv2/lib/python3.10/site-packages (from requests>=2.21.0->azure-core<2.0.0,>=1.11.0->azure-identity) (3.1.0)\nRequirement already satisfied: idna<4,>=2.5 in /anaconda/envs/azureml_py310_sdkv2/lib/python3.10/site-packages (from requests>=2.21.0->azure-core<2.0.0,>=1.11.0->azure-identity) (3.4)\nRequirement already satisfied: urllib3<3,>=1.21.1 in /anaconda/envs/azureml_py310_sdkv2/lib/python3.10/site-packages (from requests>=2.21.0->azure-core<2.0.0,>=1.11.0->azure-identity) (1.26.16)\nRequirement already satisfied: certifi>=2017.4.17 in /anaconda/envs/azureml_py310_sdkv2/lib/python3.10/site-packages (from requests>=2.21.0->azure-core<2.0.0,>=1.11.0->azure-identity) (2023.5.7)\nNote: you may need to restart the kernel to use updated packages.\n"
        }
      ],
      "execution_count": 2,
      "metadata": {
        "gather": {
          "logged": 1711057544628
        }
      }
    },
    {
      "cell_type": "code",
      "source": [
        "pip install azure-keyvault-secrets"
      ],
      "outputs": [
        {
          "output_type": "stream",
          "name": "stdout",
          "text": "Requirement already satisfied: azure-keyvault-secrets in /anaconda/envs/azureml_py310_sdkv2/lib/python3.10/site-packages (4.8.0)\nRequirement already satisfied: azure-core<2.0.0,>=1.29.5 in /anaconda/envs/azureml_py310_sdkv2/lib/python3.10/site-packages (from azure-keyvault-secrets) (1.30.1)\nRequirement already satisfied: isodate>=0.6.1 in /anaconda/envs/azureml_py310_sdkv2/lib/python3.10/site-packages (from azure-keyvault-secrets) (0.6.1)\nRequirement already satisfied: typing-extensions>=4.0.1 in /anaconda/envs/azureml_py310_sdkv2/lib/python3.10/site-packages (from azure-keyvault-secrets) (4.6.3)\nRequirement already satisfied: requests>=2.21.0 in /anaconda/envs/azureml_py310_sdkv2/lib/python3.10/site-packages (from azure-core<2.0.0,>=1.29.5->azure-keyvault-secrets) (2.31.0)\nRequirement already satisfied: six>=1.11.0 in /anaconda/envs/azureml_py310_sdkv2/lib/python3.10/site-packages (from azure-core<2.0.0,>=1.29.5->azure-keyvault-secrets) (1.16.0)\nRequirement already satisfied: charset-normalizer<4,>=2 in /anaconda/envs/azureml_py310_sdkv2/lib/python3.10/site-packages (from requests>=2.21.0->azure-core<2.0.0,>=1.29.5->azure-keyvault-secrets) (3.1.0)\nRequirement already satisfied: idna<4,>=2.5 in /anaconda/envs/azureml_py310_sdkv2/lib/python3.10/site-packages (from requests>=2.21.0->azure-core<2.0.0,>=1.29.5->azure-keyvault-secrets) (3.4)\nRequirement already satisfied: urllib3<3,>=1.21.1 in /anaconda/envs/azureml_py310_sdkv2/lib/python3.10/site-packages (from requests>=2.21.0->azure-core<2.0.0,>=1.29.5->azure-keyvault-secrets) (1.26.16)\nRequirement already satisfied: certifi>=2017.4.17 in /anaconda/envs/azureml_py310_sdkv2/lib/python3.10/site-packages (from requests>=2.21.0->azure-core<2.0.0,>=1.29.5->azure-keyvault-secrets) (2023.5.7)\nNote: you may need to restart the kernel to use updated packages.\n"
        }
      ],
      "execution_count": 3,
      "metadata": {
        "jupyter": {
          "source_hidden": false,
          "outputs_hidden": false
        },
        "nteract": {
          "transient": {
            "deleting": false
          }
        },
        "gather": {
          "logged": 1711057546494
        }
      }
    },
    {
      "cell_type": "code",
      "source": [
        "import msal"
      ],
      "outputs": [],
      "execution_count": 4,
      "metadata": {
        "jupyter": {
          "source_hidden": false,
          "outputs_hidden": false
        },
        "nteract": {
          "transient": {
            "deleting": false
          }
        },
        "gather": {
          "logged": 1711057546638
        }
      }
    },
    {
      "cell_type": "code",
      "source": [
        "from azure.identity import DefaultAzureCredential\n",
        "from azure.keyvault.secrets import SecretClient\n",
        "\n",
        "keyVaultName = \"cgmmlservicevault\"\n",
        "KVUri = f\"https://{keyVaultName}.vault.azure.net\"\n",
        "\n",
        "credential = DefaultAzureCredential()\n",
        "client = SecretClient(vault_url=KVUri, credential=credential)\n",
        "\n",
        "#fetch secrets from keyvault\n",
        "client_id = client.get_secret(\"pbieclientid\").value\n",
        "client_secret = client.get_secret(\"pbieclientsecret\").value\n",
        "\n",
        "#hardcoded variables that aren't sensitive\n",
        "authentication_mode = 'serviceprincipal'\n",
        "authority_url = 'https://login.microsoftonline.com/organizations'\n",
        "scope_base = ['https://analysis.windows.net/powerbi/api/.default']\n",
        "tenant_id = '9f01a99c-6282-465a-94e6-fa7e97720b22'"
      ],
      "outputs": [],
      "execution_count": 12,
      "metadata": {
        "jupyter": {
          "source_hidden": false,
          "outputs_hidden": false
        },
        "nteract": {
          "transient": {
            "deleting": false
          }
        },
        "gather": {
          "logged": 1711057851419
        }
      }
    },
    {
      "cell_type": "markdown",
      "source": [],
      "metadata": {
        "nteract": {
          "transient": {
            "deleting": false
          }
        }
      }
    },
    {
      "cell_type": "code",
      "source": [
        "\n",
        "\n",
        "authority = authority_url.replace('organizations', tenant_id)\n",
        "clientapp = msal.ConfidentialClientApplication(client_id, client_credential=client_secret, authority=authority)\n",
        "\n",
        "# Make a client call if Access token is not available in cache\n",
        "aad_token = clientapp.acquire_token_for_client(scopes=scope_base)\n",
        "\n",
        "print(aad_token)\n"
      ],
      "outputs": [
        {
          "output_type": "stream",
          "name": "stdout",
          "text": "{'token_type': 'Bearer', 'expires_in': 3599, 'ext_expires_in': 3599, 'access_token': 'eyJ0eXAiOiJKV1QiLCJhbGciOiJSUzI1NiIsIng1dCI6IlhSdmtvOFA3QTNVYVdTblU3Yk05blQwTWpoQSIsImtpZCI6IlhSdmtvOFA3QTNVYVdTblU3Yk05blQwTWpoQSJ9.eyJhdWQiOiJodHRwczovL2FuYWx5c2lzLndpbmRvd3MubmV0L3Bvd2VyYmkvYXBpIiwiaXNzIjoiaHR0cHM6Ly9zdHMud2luZG93cy5uZXQvOWYwMWE5OWMtNjI4Mi00NjVhLTk0ZTYtZmE3ZTk3NzIwYjIyLyIsImlhdCI6MTcxMTA1NzU2MywibmJmIjoxNzExMDU3NTYzLCJleHAiOjE3MTEwNjE0NjMsImFpbyI6IkUyTmdZR2g0dDV4dHpWZVQ0eTAzcEQ2OE9mNWlFd0E9IiwiYXBwaWQiOiI1OGMzNTZjNy1kNGRhLTRkNTQtOTQ5Yy0yOTAzM2ZlODU0MDAiLCJhcHBpZGFjciI6IjEiLCJpZHAiOiJodHRwczovL3N0cy53aW5kb3dzLm5ldC85ZjAxYTk5Yy02MjgyLTQ2NWEtOTRlNi1mYTdlOTc3MjBiMjIvIiwiaWR0eXAiOiJhcHAiLCJvaWQiOiI2NzA5YjI5My00Nzg5LTQ3N2YtYWVlMi02MDdiNzEzOWU2M2MiLCJyaCI6IjAuQVZFQW5La0JuNEppV2thVTV2cC1sM0lMSWdrQUFBQUFBQUFBd0FBQUFBQUFBQURRQUFBLiIsInN1YiI6IjY3MDliMjkzLTQ3ODktNDc3Zi1hZWUyLTYwN2I3MTM5ZTYzYyIsInRpZCI6IjlmMDFhOTljLTYyODItNDY1YS05NGU2LWZhN2U5NzcyMGIyMiIsInV0aSI6Im9DX1owV3BpQ2tTYXM2SUxvSHhrQUEiLCJ2ZXIiOiIxLjAifQ.dff6xjnyqYl_BLdEg0Q7n9g2QXb3mRoEVw9PuBoMkCCC4cDUoEWo2RFQlXSjdID-EDhd8sXofPv8D5BJI2w9p8OZd4C83Zauc8XCKIshLF1-1DHX5i0M1D9etNzvKdNmGlQQcqMbuhBDfyykXKLaBJAZIx-6HfbThVCMXT7KJM7zQ07ZVfX4AQodKhLHJ6_F2CobUaYmg-AE4vt0AQZxVbfBIHMi_bFyzY4-zrjjuV74PlnmguEd7hzlmcB67tlCHMjrsx_8irIdJvOEvbrTyfzdxyLGw7FbRAZak2MVbpXMl3bQFA9w73NIc0-gB391obwa0gOq48hMGaQJfYDaag'}\n"
        }
      ],
      "execution_count": 14,
      "metadata": {
        "jupyter": {
          "source_hidden": false,
          "outputs_hidden": false
        },
        "nteract": {
          "transient": {
            "deleting": false
          }
        },
        "gather": {
          "logged": 1711057863808
        }
      }
    },
    {
      "cell_type": "code",
      "source": [
        "from services.aadservice import AadService\n",
        "aad_token = AadService.get_access_token()"
      ],
      "outputs": [],
      "execution_count": 6,
      "metadata": {
        "jupyter": {
          "source_hidden": false,
          "outputs_hidden": false
        },
        "nteract": {
          "transient": {
            "deleting": false
          }
        },
        "gather": {
          "logged": 1711053945869
        }
      }
    },
    {
      "cell_type": "code",
      "source": [
        "print(aad_token)"
      ],
      "outputs": [
        {
          "output_type": "stream",
          "name": "stdout",
          "text": "eyJ0eXAiOiJKV1QiLCJhbGciOiJSUzI1NiIsIng1dCI6IlhSdmtvOFA3QTNVYVdTblU3Yk05blQwTWpoQSIsImtpZCI6IlhSdmtvOFA3QTNVYVdTblU3Yk05blQwTWpoQSJ9.eyJhdWQiOiJodHRwczovL2FuYWx5c2lzLndpbmRvd3MubmV0L3Bvd2VyYmkvYXBpIiwiaXNzIjoiaHR0cHM6Ly9zdHMud2luZG93cy5uZXQvOWYwMWE5OWMtNjI4Mi00NjVhLTk0ZTYtZmE3ZTk3NzIwYjIyLyIsImlhdCI6MTcxMTA1MzY0NSwibmJmIjoxNzExMDUzNjQ1LCJleHAiOjE3MTEwNTc1NDUsImFpbyI6IkUyTmdZSGd0Nk41MzVzUkVXWnVUUDErcE5JWnhBUUE9IiwiYXBwaWQiOiI1OGMzNTZjNy1kNGRhLTRkNTQtOTQ5Yy0yOTAzM2ZlODU0MDAiLCJhcHBpZGFjciI6IjEiLCJpZHAiOiJodHRwczovL3N0cy53aW5kb3dzLm5ldC85ZjAxYTk5Yy02MjgyLTQ2NWEtOTRlNi1mYTdlOTc3MjBiMjIvIiwiaWR0eXAiOiJhcHAiLCJvaWQiOiI2NzA5YjI5My00Nzg5LTQ3N2YtYWVlMi02MDdiNzEzOWU2M2MiLCJyaCI6IjAuQVZFQW5La0JuNEppV2thVTV2cC1sM0lMSWdrQUFBQUFBQUFBd0FBQUFBQUFBQURRQUFBLiIsInN1YiI6IjY3MDliMjkzLTQ3ODktNDc3Zi1hZWUyLTYwN2I3MTM5ZTYzYyIsInRpZCI6IjlmMDFhOTljLTYyODItNDY1YS05NGU2LWZhN2U5NzcyMGIyMiIsInV0aSI6ImF4b0p2STg2TDBxSlFJWWxmbDFhQUEiLCJ2ZXIiOiIxLjAifQ.QioqtuDsVYISF6gJIIMKh9mUHhRnHoP9ihaQ7DDoGb9ioKe_NUBBxSMXPqnzbMbH3cEGauglm0ERHERTkWyZwzQ75D6B5YTKTrNc6xbweHmJpum3MISvz2hD1oxCRxXq6LQiwzHhU9hIn9spLXpC9ji4lbH8L32AZjt-GqeCpvhkh3Po4l4cJUAKU-lHCw7F1wMd-b5i7QuS0L9TO0Up5q2JUxL4lNjtiHbsjbtfgmM5J8gu6qEpMypBddKOfVw1vAdiudI6Hx2Z5yr_KVdS7RiUaOlYGDNoO5VFmGGjAr1y5YLn_odt5qfCbIiszAqp-YHONVUot6X4esKJkKIXEA\n"
        }
      ],
      "execution_count": 7,
      "metadata": {
        "jupyter": {
          "source_hidden": false,
          "outputs_hidden": false
        },
        "nteract": {
          "transient": {
            "deleting": false
          }
        },
        "gather": {
          "logged": 1711053956562
        }
      }
    },
    {
      "cell_type": "code",
      "source": [],
      "outputs": [],
      "execution_count": null,
      "metadata": {
        "jupyter": {
          "source_hidden": false,
          "outputs_hidden": false
        },
        "nteract": {
          "transient": {
            "deleting": false
          }
        }
      }
    }
  ],
  "metadata": {
    "kernelspec": {
      "name": "python310-sdkv2",
      "language": "python",
      "display_name": "Python 3.10 - SDK v2"
    },
    "language_info": {
      "name": "python",
      "version": "3.10.11",
      "mimetype": "text/x-python",
      "codemirror_mode": {
        "name": "ipython",
        "version": 3
      },
      "pygments_lexer": "ipython3",
      "nbconvert_exporter": "python",
      "file_extension": ".py"
    },
    "microsoft": {
      "ms_spell_check": {
        "ms_spell_check_language": "en"
      },
      "host": {
        "AzureML": {
          "notebookHasBeenCompleted": true
        }
      }
    },
    "kernel_info": {
      "name": "python310-sdkv2"
    },
    "nteract": {
      "version": "nteract-front-end@1.0.0"
    }
  },
  "nbformat": 4,
  "nbformat_minor": 2
}