{
  "cells": [
    {
      "cell_type": "code",
      "source": [
        "pip install azure-identity"
      ],
      "outputs": [],
      "execution_count": null,
      "metadata": {
        "gather": {
          "logged": 1711057544628
        }
      }
    },
    {
      "cell_type": "code",
      "source": [
        "pip install azure-keyvault-secrets"
      ],
      "outputs": [],
      "execution_count": null,
      "metadata": {
        "jupyter": {
          "source_hidden": false,
          "outputs_hidden": false
        },
        "nteract": {
          "transient": {
            "deleting": false
          }
        },
        "gather": {
          "logged": 1711057546494
        }
      }
    },
    {
      "cell_type": "code",
      "source": [
        "import msal"
      ],
      "outputs": [],
      "execution_count": null,
      "metadata": {
        "jupyter": {
          "source_hidden": false,
          "outputs_hidden": false
        },
        "nteract": {
          "transient": {
            "deleting": false
          }
        },
        "gather": {
          "logged": 1711057546638
        }
      }
    },
    {
      "cell_type": "code",
      "source": [
        "from azure.identity import DefaultAzureCredential\n",
        "from azure.keyvault.secrets import SecretClient\n",
        "\n",
        "keyVaultName = \"cgmmlservicevault\"\n",
        "KVUri = f\"https://{keyVaultName}.vault.azure.net\"\n",
        "\n",
        "credential = DefaultAzureCredential()\n",
        "client = SecretClient(vault_url=KVUri, credential=credential)\n",
        "\n",
        "#fetch secrets from keyvault\n",
        "client_id = client.get_secret(\"pbieclientid\").value\n",
        "client_secret = client.get_secret(\"pbieclientsecret\").value\n",
        "\n",
        "#hardcoded variables that aren't sensitive\n",
        "authentication_mode = 'serviceprincipal'\n",
        "authority_url = 'https://login.microsoftonline.com/organizations'\n",
        "scope_base = ['https://analysis.windows.net/powerbi/api/.default']\n",
        "tenant_id = '9f01a99c-6282-465a-94e6-fa7e97720b22'"
      ],
      "outputs": [],
      "execution_count": null,
      "metadata": {
        "jupyter": {
          "source_hidden": false,
          "outputs_hidden": false
        },
        "nteract": {
          "transient": {
            "deleting": false
          }
        },
        "gather": {
          "logged": 1711057851419
        }
      }
    },
    {
      "cell_type": "markdown",
      "source": [],
      "metadata": {
        "nteract": {
          "transient": {
            "deleting": false
          }
        }
      }
    },
    {
      "cell_type": "code",
      "source": [
        "\n",
        "\n",
        "authority = authority_url.replace('organizations', tenant_id)\n",
        "clientapp = msal.ConfidentialClientApplication(client_id, client_credential=client_secret, authority=authority)\n",
        "\n",
        "# Make a client call if Access token is not available in cache\n",
        "aad_token = clientapp.acquire_token_for_client(scopes=scope_base)\n",
        "\n",
        "print(aad_token)\n"
      ],
      "outputs": [],
      "execution_count": null,
      "metadata": {
        "jupyter": {
          "source_hidden": false,
          "outputs_hidden": false
        },
        "nteract": {
          "transient": {
            "deleting": false
          }
        },
        "gather": {
          "logged": 1711057863808
        }
      }
    },
    {
      "cell_type": "code",
      "source": [
        "from services.aadservice import AadService\n",
        "aad_token = AadService.get_access_token()"
      ],
      "outputs": [],
      "execution_count": null,
      "metadata": {
        "jupyter": {
          "source_hidden": false,
          "outputs_hidden": false
        },
        "nteract": {
          "transient": {
            "deleting": false
          }
        },
        "gather": {
          "logged": 1711053945869
        }
      }
    },
    {
      "cell_type": "code",
      "source": [
        "print(aad_token)"
      ],
      "outputs": [],
      "execution_count": null,
      "metadata": {
        "jupyter": {
          "source_hidden": false,
          "outputs_hidden": false
        },
        "nteract": {
          "transient": {
            "deleting": false
          }
        },
        "gather": {
          "logged": 1711053956562
        }
      }
    },
    {
      "cell_type": "code",
      "source": [],
      "outputs": [],
      "execution_count": null,
      "metadata": {
        "jupyter": {
          "source_hidden": false,
          "outputs_hidden": false
        },
        "nteract": {
          "transient": {
            "deleting": false
          }
        }
      }
    }
  ],
  "metadata": {
    "kernelspec": {
      "name": "python310-sdkv2",
      "language": "python",
      "display_name": "Python 3.10 - SDK v2"
    },
    "language_info": {
      "name": "python",
      "version": "3.10.11",
      "mimetype": "text/x-python",
      "codemirror_mode": {
        "name": "ipython",
        "version": 3
      },
      "pygments_lexer": "ipython3",
      "nbconvert_exporter": "python",
      "file_extension": ".py"
    },
    "microsoft": {
      "ms_spell_check": {
        "ms_spell_check_language": "en"
      },
      "host": {
        "AzureML": {
          "notebookHasBeenCompleted": true
        }
      }
    },
    "kernel_info": {
      "name": "python310-sdkv2"
    },
    "nteract": {
      "version": "nteract-front-end@1.0.0"
    }
  },
  "nbformat": 4,
  "nbformat_minor": 2
}