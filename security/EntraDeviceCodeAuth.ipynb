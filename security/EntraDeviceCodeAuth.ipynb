{
  "cells": [
    {
      "cell_type": "markdown",
      "metadata": {
        "nteract": {
          "transient": {
            "deleting": false
          }
        }
      },
      "source": [
        "## Authenticating as a User with a Login Code\n",
        "\n",
        "At the time of writing this module (April 2024), the Fabric APIs do not support Service Principals.  This code illustrates how to authenticate a user using a Device Code authentication flow (https://learn.microsoft.com/en-us/entra/identity-platform/v2-oauth2-device-code).  This is necessary because within the context of a Jupyter notebook we can't do an interactive auth process, and username + password authentiation won't work if MFA is enabled on the account.\n"
      ]
    },
    {
      "cell_type": "code",
      "execution_count": null,
      "metadata": {
        "gather": {
          "logged": 1713362590579
        },
        "jupyter": {
          "outputs_hidden": false,
          "source_hidden": false
        },
        "nteract": {
          "transient": {
            "deleting": false
          }
        }
      },
      "outputs": [],
      "source": [
        "pip install msal requests"
      ]
    },
    {
      "cell_type": "code",
      "execution_count": null,
      "metadata": {},
      "outputs": [],
      "source": [
        "#For orgaization purposes I put notbooks in subfolders not the root of the proejct.aad_token\n",
        "#This code adds the root directory of the project to the sys path so we can load class modules from the services folder\n",
        "#I think this only needs to be run once, but including it for completeness.\n",
        "import os, sys\n",
        "projectRoot = os.path.abspath('.')\n",
        "directory = os.path.dirname(projectRoot)\n",
        "if not directory in sys.path: sys.path.append(directory)"
      ]
    },
    {
      "cell_type": "code",
      "execution_count": null,
      "metadata": {
        "gather": {
          "logged": 1713362971634
        },
        "jupyter": {
          "outputs_hidden": false,
          "source_hidden": false
        },
        "nteract": {
          "transient": {
            "deleting": false
          }
        }
      },
      "outputs": [],
      "source": [
        "import msal\n",
        "\n",
        "authority_host_uri = 'https://login.microsoftonline.com'\n",
        "tenant = '9f01a99c-6282-465a-94e6-fa7e97720b22'\n",
        "authority_uri = authority_host_uri + '/' + tenant\n",
        "#resource_uri = ['https://api.fabric.microsoft.com/Workspace.ReadWrite.All','https://api.fabric.microsoft.com/Item.ReadWrite.All']\n",
        "client_id = '1e06b563-d085-4954-a3ec-d1cfa86f714c'\n",
        "resource_uri = 'https://graph.microsoft.com/User.Read'\n",
        "\n",
        "\n",
        "context = msal.PublicClientApplication(client_id, authority=authority_uri)"
      ]
    },
    {
      "cell_type": "code",
      "execution_count": null,
      "metadata": {
        "gather": {
          "logged": 1713362972840
        },
        "jupyter": {
          "outputs_hidden": false,
          "source_hidden": false
        },
        "nteract": {
          "transient": {
            "deleting": false
          }
        }
      },
      "outputs": [],
      "source": [
        "accounts = context.get_accounts()"
      ]
    },
    {
      "cell_type": "code",
      "execution_count": null,
      "metadata": {
        "gather": {
          "logged": 1713362975166
        },
        "jupyter": {
          "outputs_hidden": false,
          "source_hidden": false
        },
        "nteract": {
          "transient": {
            "deleting": false
          }
        }
      },
      "outputs": [],
      "source": [
        "# This specifices which API scopes we need access to.   Note that these scopes must be added to the App Registration in Entra.\n",
        "scopes = ['https://analysis.windows.net/powerbi/api/Item.ReadWrite.All','https://analysis.windows.net/powerbi/api/Workspace.ReadWrite.All']\n",
        "flow = context.initiate_device_flow(scopes=scopes)\n",
        "\n",
        "#Now that the flow has been created show the device code so we can login.\n",
        "print(flow[\"message\"])"
      ]
    },
    {
      "cell_type": "markdown",
      "metadata": {
        "nteract": {
          "transient": {
            "deleting": false
          }
        }
      },
      "source": [
        "Now you must execute the login by navigating to the link, providing the code above, and completing the login process."
      ]
    },
    {
      "cell_type": "code",
      "execution_count": null,
      "metadata": {
        "gather": {
          "logged": 1713363005340
        },
        "jupyter": {
          "outputs_hidden": false,
          "source_hidden": false
        },
        "nteract": {
          "transient": {
            "deleting": false
          }
        }
      },
      "outputs": [],
      "source": [
        "#Complete the authentication process by retreving the authentication detials associated with the flow.\n",
        "code = context.acquire_token_by_device_flow(flow=flow)"
      ]
    },
    {
      "cell_type": "code",
      "execution_count": null,
      "metadata": {
        "gather": {
          "logged": 1713363006466
        },
        "jupyter": {
          "outputs_hidden": false,
          "source_hidden": false
        },
        "nteract": {
          "transient": {
            "deleting": false
          }
        }
      },
      "outputs": [],
      "source": [
        "#Print auth code to illustrate we were successful.  Note: this will show a secure token.\n",
        "print(code)"
      ]
    }
  ],
  "metadata": {
    "kernel_info": {
      "name": "python310-sdkv2"
    },
    "kernelspec": {
      "display_name": "Python 3.10 - SDK v2",
      "language": "python",
      "name": "python310-sdkv2"
    },
    "language_info": {
      "codemirror_mode": {
        "name": "ipython",
        "version": 3
      },
      "file_extension": ".py",
      "mimetype": "text/x-python",
      "name": "python",
      "nbconvert_exporter": "python",
      "pygments_lexer": "ipython3",
      "version": "3.10.11"
    },
    "microsoft": {
      "host": {
        "AzureML": {
          "notebookHasBeenCompleted": true
        }
      },
      "ms_spell_check": {
        "ms_spell_check_language": "en"
      }
    },
    "nteract": {
      "version": "nteract-front-end@1.0.0"
    }
  },
  "nbformat": 4,
  "nbformat_minor": 2
}
