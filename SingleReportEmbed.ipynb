{
  "cells": [
    {
      "cell_type": "code",
      "source": [
        "pip install requests msal"
      ],
      "outputs": [],
      "execution_count": null,
      "metadata": {
        "gather": {
          "logged": 1712243681460
        }
      }
    },
    {
      "cell_type": "code",
      "source": [
        "#This leverages the code encapsulated in services/aadservice.py that encapsulates the service principle login\n",
        "from services.aadservice import AadService\n",
        "aad_token = AadService.get_access_token()"
      ],
      "outputs": [],
      "execution_count": null,
      "metadata": {
        "jupyter": {
          "source_hidden": false,
          "outputs_hidden": false
        },
        "nteract": {
          "transient": {
            "deleting": false
          }
        },
        "gather": {
          "logged": 1712243682131
        }
      }
    },
    {
      "cell_type": "code",
      "source": [
        "print(aad_token)"
      ],
      "outputs": [],
      "execution_count": null,
      "metadata": {
        "jupyter": {
          "source_hidden": false,
          "outputs_hidden": false
        },
        "nteract": {
          "transient": {
            "deleting": false
          }
        },
        "gather": {
          "logged": 1712243683247
        }
      }
    },
    {
      "cell_type": "code",
      "source": [
        "workspace_id=\"16453fea-cb0f-4ef4-b1b2-bede9d3b92be\"\n",
        "report_id=\"6b4507a2-35f1-49b3-a4f0-23ff68ca09ae\"\n",
        "dataset_id=\"51d82bf3-be19-4f15-a3b8-76711d9e97c3\""
      ],
      "outputs": [],
      "execution_count": null,
      "metadata": {
        "jupyter": {
          "source_hidden": false,
          "outputs_hidden": false
        },
        "nteract": {
          "transient": {
            "deleting": false
          }
        },
        "gather": {
          "logged": 1712243684521
        }
      }
    },
    {
      "cell_type": "code",
      "source": [
        "request_header =  {'Content-Type': 'application/json', 'Authorization': 'Bearer ' + AadService.get_access_token()}\n",
        "\n",
        "print(request_header)"
      ],
      "outputs": [],
      "execution_count": null,
      "metadata": {
        "jupyter": {
          "source_hidden": false,
          "outputs_hidden": false
        },
        "nteract": {
          "transient": {
            "deleting": false
          }
        },
        "gather": {
          "logged": 1712243687126
        }
      }
    },
    {
      "cell_type": "code",
      "source": [
        "from services.aadservice import AadService\n",
        "from models.reportconfig import ReportConfig\n",
        "from models.embedtoken import EmbedToken\n",
        "from models.embedconfig import EmbedConfig\n",
        "from models.embedtokenrequestbody import EmbedTokenRequestBody\n",
        "\n",
        "import requests\n",
        "import json\n",
        "\n",
        "report_url = f'https://api.powerbi.com/v1.0/myorg/groups/{workspace_id}/reports/{report_id}'       \n",
        "\n",
        "\n",
        "request_body = EmbedTokenRequestBody()\n",
        "\n",
        "request_body.datasets.append({'id': dataset_id})\n",
        "request_body.reports.append({'id': report_id})\n",
        "request_body.targetWorkspaces.append({'id': workspace_id})\n",
        "\n",
        "print(request_body)"
      ],
      "outputs": [],
      "execution_count": null,
      "metadata": {
        "jupyter": {
          "source_hidden": false,
          "outputs_hidden": false
        },
        "nteract": {
          "transient": {
            "deleting": false
          }
        },
        "gather": {
          "logged": 1712243729201
        }
      }
    },
    {
      "cell_type": "code",
      "source": [
        "from services.aadservice import AadService\n",
        "from models.reportconfig import ReportConfig\n",
        "from models.embedtoken import EmbedToken\n",
        "from models.embedconfig import EmbedConfig\n",
        "from models.embedtokenrequestbody import EmbedTokenRequestBody\n",
        "\n",
        "import requests\n",
        "import json\n",
        "\n",
        "report_url = f'https://api.powerbi.com/v1.0/myorg/groups/{workspace_id}/reports/{report_id}'       \n",
        "\n",
        "\n",
        "request_body = EmbedTokenRequestBody()\n",
        "\n",
        "request_body.datasets.append({'id': dataset_id})\n",
        "request_body.reports.append({'id': report_id})\n",
        "request_body.targetWorkspaces.append({'id': workspace_id})\n",
        "\n",
        "print(json.dumps(request_body))\n",
        "\n",
        "# Generate Embed token for multiple workspaces, datasets, and reports. Refer https://aka.ms/MultiResourceEmbedToken\n",
        "embed_token_api = 'https://api.powerbi.com/v1.0/myorg/GenerateToken'\n",
        "api_response = requests.post(embed_token_api, data=json.dumps(request_body.__dict__), headers=request_header)\n",
        "\n",
        "if api_response.status_code != 200:\n",
        "    print(api_response.status_code, description=f'Error while retrieving Embed token\\n{api_response.reason}:\\t{api_response.text}\\nRequestId:\\t{api_response.headers.get(\"RequestId\")}')\n",
        "else:\n",
        "    api_response = json.loads(api_response.text)\n",
        "    embed_token = EmbedToken(api_response['tokenId'], api_response['token'], api_response['expiration'])\n",
        "    print(embed_token)"
      ],
      "outputs": [],
      "execution_count": null,
      "metadata": {
        "jupyter": {
          "source_hidden": false,
          "outputs_hidden": false
        },
        "nteract": {
          "transient": {
            "deleting": false
          }
        },
        "gather": {
          "logged": 1712243688382
        }
      }
    },
    {
      "cell_type": "code",
      "source": [],
      "outputs": [],
      "execution_count": null,
      "metadata": {
        "jupyter": {
          "source_hidden": false,
          "outputs_hidden": false
        },
        "nteract": {
          "transient": {
            "deleting": false
          }
        }
      }
    }
  ],
  "metadata": {
    "kernelspec": {
      "name": "python310-sdkv2",
      "language": "python",
      "display_name": "Python 3.10 - SDK v2"
    },
    "language_info": {
      "name": "python",
      "version": "3.10.11",
      "mimetype": "text/x-python",
      "codemirror_mode": {
        "name": "ipython",
        "version": 3
      },
      "pygments_lexer": "ipython3",
      "nbconvert_exporter": "python",
      "file_extension": ".py"
    },
    "microsoft": {
      "ms_spell_check": {
        "ms_spell_check_language": "en"
      },
      "host": {
        "AzureML": {
          "notebookHasBeenCompleted": true
        }
      }
    },
    "kernel_info": {
      "name": "python310-sdkv2"
    },
    "nteract": {
      "version": "nteract-front-end@1.0.0"
    }
  },
  "nbformat": 4,
  "nbformat_minor": 2
}