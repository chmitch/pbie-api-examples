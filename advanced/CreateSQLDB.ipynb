{
  "cells": [
    {
      "cell_type": "markdown",
      "source": [
        "# Create Azure SQL Database\n",
        "\n",
        "This covers the multi-step process of creating an Azure SQL Database that can be queried by Power BI.  This invovles creating a server, a database, and updating the server firewall to allow azure access.   While this is one path to do this there are hundreds of permutations of how this can be done.  For example:\n",
        "\n",
        "1. Does the resource group already exist?\n",
        "1. When can we assume the server already exists?  The server is really just a logical placeholder and makes little impact on performance because the performance attributes are set at the database level.  (But what about elastic pools?)\n",
        "1. If the server already exists can we assume the firewall is already set?\n",
        "1. What about Active Directory permissions, does it make sense to have the managed identity pre-created and assigned Entra directory reader permissions?\n",
        "1. Do we need high availability settings on the database?\n",
        "1. Do we need to deploy databases in different azure regions?\n",
        "\n",
        "This script is written to assume the following has already been done:\n",
        "\n",
        "1. The logical server has already been created.\n",
        "1. The server's managed identity has been created (user assigned or system managed)\n",
        "1. The managed identity has been granted the \"Directory Reader\" role in Entra enabling us to add entra users to the SQL Database.\n",
        "1. The server firewall has already been set on the database to allow Azure access.\n",
        "1. The service principal has been set as the entra server admin.\n",
        "\n",
        "Also, unlike some of our earlier examples, we're using the azure-mgmt-sql libraries to simplify the creation, we're doing this becasue they actually exist in this case.  This results in a few things that are a departure from other notebooks in this repo:\n",
        "\n",
        "1. We have no need to create the header for the rest api call.\n",
        "1. We're actually not using the raw AAD token now, but rather a credential object.  The python packages will handle getting a token for the appropriate scope under the covers.\n",
        "1. We're no longer concerned with what the path to the API is, and whether the method is a put, post, patch or delete, this is abstracted from us.\n",
        "\n",
        "For reference here are some sources:\n",
        "\n",
        "1. Create Server - https://learn.microsoft.com/en-us/rest/api/sql/servers/update?view=rest-sql-2021-11-01&tabs=HTTP\n",
        "1. Create Database - https://learn.microsoft.com/en-us/rest/api/sql/databases?view=rest-sql-2021-11-01\n",
        "1. Firewall Rules - https://learn.microsoft.com/en-us/rest/api/sql/firewall-rules?view=rest-sql-2021-11-01\n",
        "1. SqlManagementClient doc - https://learn.microsoft.com/en-us/python/api/azure-mgmt-sql/azure.mgmt.sql.sqlmanagementclient?view=azure-python \n",
        "1. Python samples of using azure-mgmt-sql:  https://github.com/Azure-Samples/azure-samples-python-management/tree/main/samples/sql"
      ],
      "metadata": {
        "nteract": {
          "transient": {
            "deleting": false
          }
        }
      }
    },
    {
      "cell_type": "code",
      "source": [
        "pip install azure-mgmt-sql requests msal pyodbc"
      ],
      "outputs": [],
      "execution_count": null,
      "metadata": {
        "jupyter": {
          "source_hidden": false,
          "outputs_hidden": false
        },
        "nteract": {
          "transient": {
            "deleting": false
          }
        },
        "gather": {
          "logged": 1715172971940
        }
      }
    },
    {
      "cell_type": "code",
      "source": [
        "resourceGroup = \"cgmpbie\"\n",
        "subscriptionId = \"7258b7d4-3429-4998-815b-8cd6954b7ef9\"\n",
        "serverName = \"cgmpbiesqlserver\"\n",
        "databaseRoot = \"cgmpbietenant\"\n",
        "location = \"westus2\"\n",
        "\n",
        "#Add another Admin to the database for convenience so you can connect to the database in Azure Data Studio or Query Editor.\n",
        "secondaryAdmin = \"chmitch@microsoftanalyitcs.info\""
      ],
      "outputs": [],
      "execution_count": null,
      "metadata": {
        "jupyter": {
          "source_hidden": false,
          "outputs_hidden": false
        },
        "nteract": {
          "transient": {
            "deleting": false
          }
        },
        "gather": {
          "logged": 1715172972105
        }
      }
    },
    {
      "cell_type": "code",
      "source": [
        "#This leverages the code encapsulated in services/aadservice.py that encapsulates the service principle login.\n",
        "#Note: for most of the other notebooks we're not passing in a scope, this is because the code in aadservice.property\n",
        "#defaults the scope to a scope for the Power BI API.   Since we're calling the azure management API we need a different\n",
        "#scope.\n",
        "from services.aadservice import AadService\n",
        "scope = 'https://management.azure.com/.default'\n",
        "#aad_token = AadService.get_access_token(scope)\n",
        "cred = AadService.get_credential()\n",
        "\n",
        "#with the credential object, get the token for the azure management scope.\n",
        "aadToken = cred.get_token(scope).token\n",
        "headers =  {'Content-Type': 'application/json', 'Authorization': 'Bearer ' + aadToken}"
      ],
      "outputs": [],
      "execution_count": null,
      "metadata": {
        "jupyter": {
          "source_hidden": false,
          "outputs_hidden": false
        },
        "nteract": {
          "transient": {
            "deleting": false
          }
        },
        "gather": {
          "logged": 1715173529802
        }
      }
    },
    {
      "cell_type": "code",
      "source": [
        "#This code is entriely about getting a list of databases currently on the server (ie. \"Tenant databases\"), and\n",
        "#incrementing a counter to create a new tenant database without a name confict.\n",
        "from azure.mgmt.sql import SqlManagementClient\n",
        "import json\n",
        "from services.env import const\n",
        "\n",
        "try:\n",
        "    #Connect to the Azure Management Rest API.\n",
        "    sqlClient = SqlManagementClient(credential=cred, subscription_id=const.subscriptionId)\n",
        "    \n",
        "    # Create database\n",
        "    databases = sqlClient.databases.list_by_server(\n",
        "        const.resourceGroup,\n",
        "        const.serverName\n",
        "    )\n",
        "\n",
        "    keyPosition = 0\n",
        "    keyValue = 0\n",
        "    for database in databases:\n",
        "        nameParts = database.name.split(\"_\")\n",
        "        #if there was an underscroe in the title, get the suffix of the database name.\n",
        "        if len(nameParts) > 1:\n",
        "            #if the suffix is greater than our max capture it as the new max\n",
        "            if int(nameParts[1]) > keyValue:\n",
        "                keyValue = int(nameParts[1])\n",
        "    \n",
        "    #Increment the Tenant Id for the new suffix\n",
        "    keyValue = keyValue + 1 \n",
        "    databaseName = f\"{const.databaseRoot}_{keyValue}\"\n",
        "    \n",
        "except KeyError:\n",
        "    print(f\"Database {databaseName} create failed\")"
      ],
      "outputs": [],
      "execution_count": null,
      "metadata": {
        "jupyter": {
          "source_hidden": false,
          "outputs_hidden": false
        },
        "nteract": {
          "transient": {
            "deleting": false
          }
        },
        "gather": {
          "logged": 1715020146812
        }
      }
    },
    {
      "cell_type": "code",
      "source": [
        "from azure.mgmt.sql import SqlManagementClient\n",
        "import json\n",
        "\n",
        "try:\n",
        "    #\n",
        "    sqlClient = SqlManagementClient(credential=cred, subscription_id=subscriptionId)\n",
        "    \n",
        "    # Create database\n",
        "    database = sqlClient.databases.begin_create_or_update(\n",
        "        const.resourceGroup,\n",
        "        const.serverName,\n",
        "        databaseName,\n",
        "        {\n",
        "            \"location\": const.location,\n",
        "            \"sku\": {\n",
        "                \"name\": \"S0\",\n",
        "                \"tier\": \"Standard\"\n",
        "            }\n",
        "        }\n",
        "        ).result()\n",
        "\n",
        "    print(f\"Database Created:\\n{database}\")\n",
        "except KeyError:\n",
        "    print(f\"Database {databaseName} create failed\")\n"
      ],
      "outputs": [],
      "execution_count": null,
      "metadata": {
        "jupyter": {
          "source_hidden": false,
          "outputs_hidden": false
        },
        "nteract": {
          "transient": {
            "deleting": false
          }
        },
        "gather": {
          "logged": 1715020388711
        }
      }
    },
    {
      "cell_type": "markdown",
      "source": [
        "Now that we've created a database on the precreated server, we want to do some post configuration on that database.  The server's admin account is running as a service principal.  In order to let us connect to that datbabase directly we need to add an additional Entra user to the database.  I'll do this using and ODBC connection and a couple SQL commands to create a local database user that corresponds to an Entra user and also grant that user owner permissions on the database.\n",
        "\n",
        "This is an example of where you'd likely create a tenant specific user for the database and grant that user access.\n",
        "\n",
        "Supporting docs:\n",
        "\n",
        "1. How to install SQL ODBC drivers on Linux:  https://learn.microsoft.com/en-us/sql/connect/odbc/linux-mac/installing-the-microsoft-odbc-driver-for-sql-server?view=sql-server-ver16&tabs=ubuntu18-install%2Calpine17-install%2Cdebian8-install%2Credhat7-13-install%2Crhel7-offline\n",
        "2. How to connect to a database with pyodbc drivers and a service principal login:  https://learn.microsoft.com/en-us/azure/azure-sql/database/azure-sql-passwordless-migration-python?view=azuresql&tabs=sign-in-azure-cli%2Cazure-portal-create%2Cazure-portal-assign%2Capp-service-identity"
      ],
      "metadata": {
        "nteract": {
          "transient": {
            "deleting": false
          }
        }
      }
    },
    {
      "cell_type": "code",
      "source": [
        "databaseName=\"template\"\n",
        "serverName=\"cgmpbiesqlserver\""
      ],
      "outputs": [],
      "execution_count": null,
      "metadata": {
        "jupyter": {
          "source_hidden": false,
          "outputs_hidden": false
        },
        "nteract": {
          "transient": {
            "deleting": false
          }
        },
        "gather": {
          "logged": 1715173533672
        }
      }
    },
    {
      "cell_type": "code",
      "source": [
        "import struct\n",
        "import pyodbc\n",
        "import json\n",
        "from services.secretservice import SecretService\n",
        "from services.env import const\n",
        "\n",
        "dbUser = const.globalAdminUser\n",
        "serverFqdn = f'{const.serverName}.database.windows.net'\n",
        "driver = '{ODBC Driver 18 for SQL Server}'\n",
        "\n",
        "#Get a credential for database access.\n",
        "tokenBytes = cred.get_token(\"https://database.windows.net/.default\").token.encode(\"UTF-16-LE\")\n",
        "token_struct = struct.pack(f'<I{len(tokenBytes)}s', len(tokenBytes), tokenBytes)\n",
        "SQL_COPT_SS_ACCESS_TOKEN = 1256\n",
        "\n",
        "#open the connection\n",
        "conn_str = f'DRIVER={driver};SERVER={serverFqdn};DATABASE={databaseName};'\n",
        "conn = pyodbc.connect(conn_str,attrs_before={SQL_COPT_SS_ACCESS_TOKEN: token_struct})\n",
        "\n",
        "#Create an external user on the databse and grant them DBO Access\n",
        "sql = f\"CREATE USER [{dbUser}] FROM EXTERNAL PROVIDER;\"\n",
        "conn.execute(sql)\n",
        "sql = f\"ALTER ROLE db_owner ADD MEMBER [{dbUser}];\"\n",
        "conn.execute(sql)\n",
        "\n",
        "#This is important, the connection doesn't auto commit\n",
        "conn.commit()"
      ],
      "outputs": [],
      "execution_count": null,
      "metadata": {
        "jupyter": {
          "source_hidden": false,
          "outputs_hidden": false
        },
        "nteract": {
          "transient": {
            "deleting": false
          }
        },
        "gather": {
          "logged": 1715173536805
        }
      }
    }
  ],
  "metadata": {
    "kernelspec": {
      "name": "python38-azureml",
      "language": "python",
      "display_name": "Python 3.8 - AzureML"
    },
    "language_info": {
      "name": "python",
      "version": "3.8.5",
      "mimetype": "text/x-python",
      "codemirror_mode": {
        "name": "ipython",
        "version": 3
      },
      "pygments_lexer": "ipython3",
      "nbconvert_exporter": "python",
      "file_extension": ".py"
    },
    "microsoft": {
      "ms_spell_check": {
        "ms_spell_check_language": "en"
      },
      "host": {
        "AzureML": {
          "notebookHasBeenCompleted": true
        }
      }
    },
    "kernel_info": {
      "name": "python38-azureml"
    },
    "nteract": {
      "version": "nteract-front-end@1.0.0"
    }
  },
  "nbformat": 4,
  "nbformat_minor": 2
}