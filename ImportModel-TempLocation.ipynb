{
  "cells": [
    {
      "cell_type": "markdown",
      "source": [
        "## Post Import in Group\n",
        "\n",
        "This demonstrates the process of deploying a new Power BI Model as a PBIX file to a Power BI Workspace.  This leverages the \"large file\" method of intermediately loading the PBIX file to an Azure Storage Blob.  Fortunatley there is a handy method on the API to create a blob location with a sas token for us.\n",
        "\n",
        "The general flow of this process is:\n",
        "1. Authenticate the Service Principal.\n",
        "1. Generate a temporary upload location\n",
        "1. use the blob API to upload the file to teh temp location\n",
        "1. Call the Imports API passing in the path to the temporary blob location.\n",
        "\n",
        "The documentation for the relevant APIs can be found here:\n",
        "- https://learn.microsoft.com/en-us/rest/api/power-bi/imports/create-temporary-upload-location-in-group\n",
        "- https://learn.microsoft.com/en-us/rest/api/power-bi/imports/post-import-in-group"
      ],
      "metadata": {
        "nteract": {
          "transient": {
            "deleting": false
          }
        }
      }
    },
    {
      "cell_type": "code",
      "source": [
        "pip install requests msal jsons azure-storage-blob requests_toolbelt"
      ],
      "outputs": [],
      "execution_count": null,
      "metadata": {
        "gather": {
          "logged": 1713208474694
        }
      }
    },
    {
      "cell_type": "code",
      "source": [
        "#This leverages the code encapsulated in services/aadservice.py that encapsulates the service principle login\n",
        "from services.aadservice import AadService\n",
        "aad_token = AadService.get_access_token()"
      ],
      "outputs": [],
      "execution_count": null,
      "metadata": {
        "jupyter": {
          "source_hidden": false,
          "outputs_hidden": false
        },
        "nteract": {
          "transient": {
            "deleting": false
          }
        },
        "gather": {
          "logged": 1713208477627
        }
      }
    },
    {
      "cell_type": "code",
      "source": [
        "workspace_id=\"16453fea-cb0f-4ef4-b1b2-bede9d3b92be\"\n",
        "display_name=\"NYCYellow.pbix\""
      ],
      "outputs": [],
      "execution_count": null,
      "metadata": {
        "jupyter": {
          "source_hidden": false,
          "outputs_hidden": false
        },
        "nteract": {
          "transient": {
            "deleting": false
          }
        },
        "gather": {
          "logged": 1713208482264
        }
      }
    },
    {
      "cell_type": "code",
      "source": [
        "import requests\n",
        "import json\n",
        "from azure.storage.blob import BlobClient\n",
        "\n",
        "temp_url = \"\"\n",
        "\n",
        "#Part 1:  Request a temporary blob location from the API.\n",
        "api_url = f'https://api.powerbi.com/v1.0/myorg/groups/{workspace_id}/imports/createTemporaryUploadLocation'\n",
        "headers =  {\n",
        "    'Content-Type': 'application/json',\n",
        "    'Authorization': 'Bearer ' + aad_token\n",
        "} \n",
        "\n",
        "api_response = requests.post(api_url, headers=headers)\n",
        "#error handling for createTemporaryUplodadLocation\n",
        "if api_response.status_code != 200:\n",
        "    description = f'Error requesting temp location:\\n  -Status Code:\\t{api_response.status_code}\\n  -Reason:\\t{api_response.reason}\\n  -RequestId:\\t{api_response.headers.get(\"RequestId\")}\\n  -Text:\\t{api_response.text}'\n",
        "    print(description)\n",
        "else:\n",
        "    api_response = json.loads(api_response.text)\n",
        "    temp_url = api_response['url']\n"
      ],
      "outputs": [],
      "execution_count": null,
      "metadata": {
        "jupyter": {
          "source_hidden": false,
          "outputs_hidden": false
        },
        "nteract": {
          "transient": {
            "deleting": false
          }
        },
        "gather": {
          "logged": 1713208862434
        }
      }
    },
    {
      "cell_type": "code",
      "source": [
        "#Part 2:  Now that we have the temporary location, upload the file to it via the BlobClient\n",
        "if temp_url != '':\n",
        "    client = BlobClient.from_blob_url(temp_url)\n",
        "    with open(file_location, 'rb') as data:\n",
        "        client.upload_blob(data)\n",
        "    print(f\"{file_location} uploaded\")\n",
        "else:\n",
        "    print(\"No sas url specified.\")\n"
      ],
      "outputs": [],
      "execution_count": null,
      "metadata": {
        "jupyter": {
          "source_hidden": false,
          "outputs_hidden": false
        },
        "nteract": {
          "transient": {
            "deleting": false
          }
        }
      }
    },
    {
      "cell_type": "code",
      "source": [
        "#Part 3:   Call the import API with the temp location as 'fileUrl' in the body of the API call\n",
        "api_url = f\"https://api.powerbi.com/v1.0/myorg/groups/{workspace_id}/imports?datasetDisplayName={display_name}&nameConflict=Ignore&skipReport=false&overrideReportLabel=true&overrideModelLabel=true\"\n",
        "\n",
        "body = {\n",
        "    \"fileUrl\": temp_url\n",
        "}\n",
        "\n",
        "api_response = requests.post(\n",
        "    url=api_url,\n",
        "    headers=headers,\n",
        "    data=json.dumps(body)\n",
        ")\n",
        "\n",
        "if api_response.status_code != 200:\n",
        "    description = f'Error importing file:\\n  -Status Code:\\t{api_response.status_code}\\n  -Reason:\\t{api_response.reason}\\n  -RequestId:\\t{api_response.headers.get(\"RequestId\")}\\n  -Text:\\t{api_response.text}'\n",
        "    print(description)\n",
        "else:\n",
        "    api_response = json.loads(api_response.text)\n",
        "    print(json.dumps(api_response,indent=2))\n"
      ],
      "outputs": [],
      "execution_count": null,
      "metadata": {
        "jupyter": {
          "source_hidden": false,
          "outputs_hidden": false
        },
        "nteract": {
          "transient": {
            "deleting": false
          }
        }
      }
    }
  ],
  "metadata": {
    "kernelspec": {
      "name": "python310-sdkv2",
      "language": "python",
      "display_name": "Python 3.10 - SDK v2"
    },
    "language_info": {
      "name": "python",
      "version": "3.10.11",
      "mimetype": "text/x-python",
      "codemirror_mode": {
        "name": "ipython",
        "version": 3
      },
      "pygments_lexer": "ipython3",
      "nbconvert_exporter": "python",
      "file_extension": ".py"
    },
    "microsoft": {
      "ms_spell_check": {
        "ms_spell_check_language": "en"
      },
      "host": {
        "AzureML": {
          "notebookHasBeenCompleted": true
        }
      }
    },
    "kernel_info": {
      "name": "python310-sdkv2"
    },
    "nteract": {
      "version": "nteract-front-end@1.0.0"
    }
  },
  "nbformat": 4,
  "nbformat_minor": 2
}