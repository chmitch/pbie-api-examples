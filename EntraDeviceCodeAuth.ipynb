{
  "cells": [
    {
      "cell_type": "code",
      "source": [
        "pip install msal requests"
      ],
      "outputs": [],
      "execution_count": null,
      "metadata": {
        "jupyter": {
          "source_hidden": false,
          "outputs_hidden": false
        },
        "nteract": {
          "transient": {
            "deleting": false
          }
        },
        "gather": {
          "logged": 1713362590579
        }
      }
    },
    {
      "cell_type": "code",
      "source": [
        "import msal\n",
        "\n",
        "authority_host_uri = 'https://login.microsoftonline.com'\n",
        "tenant = '9f01a99c-6282-465a-94e6-fa7e97720b22'\n",
        "authority_uri = authority_host_uri + '/' + tenant\n",
        "#resource_uri = ['https://api.fabric.microsoft.com/Workspace.ReadWrite.All','https://api.fabric.microsoft.com/Item.ReadWrite.All']\n",
        "client_id = '1e06b563-d085-4954-a3ec-d1cfa86f714c'\n",
        "resource_uri = 'https://graph.microsoft.com/User.Read'\n",
        "\n",
        "\n",
        "context = msal.PublicClientApplication(client_id, authority=authority_uri)"
      ],
      "outputs": [],
      "execution_count": null,
      "metadata": {
        "jupyter": {
          "source_hidden": false,
          "outputs_hidden": false
        },
        "nteract": {
          "transient": {
            "deleting": false
          }
        },
        "gather": {
          "logged": 1713362971634
        }
      }
    },
    {
      "cell_type": "code",
      "source": [
        "accounts = context.get_accounts()"
      ],
      "outputs": [],
      "execution_count": null,
      "metadata": {
        "jupyter": {
          "source_hidden": false,
          "outputs_hidden": false
        },
        "nteract": {
          "transient": {
            "deleting": false
          }
        },
        "gather": {
          "logged": 1713362972840
        }
      }
    },
    {
      "cell_type": "code",
      "source": [
        "scopes = ['https://analysis.windows.net/powerbi/api/Item.ReadWrite.All','https://analysis.windows.net/powerbi/api/Workspace.ReadWrite.All']\n",
        "flow = context.initiate_device_flow(scopes=scopes)\n",
        "\n",
        "print(flow[\"message\"])"
      ],
      "outputs": [],
      "execution_count": null,
      "metadata": {
        "jupyter": {
          "source_hidden": false,
          "outputs_hidden": false
        },
        "nteract": {
          "transient": {
            "deleting": false
          }
        },
        "gather": {
          "logged": 1713362975166
        }
      }
    },
    {
      "cell_type": "code",
      "source": [
        "code = context.acquire_token_by_device_flow(flow=flow)"
      ],
      "outputs": [],
      "execution_count": null,
      "metadata": {
        "jupyter": {
          "source_hidden": false,
          "outputs_hidden": false
        },
        "nteract": {
          "transient": {
            "deleting": false
          }
        },
        "gather": {
          "logged": 1713363005340
        }
      }
    },
    {
      "cell_type": "code",
      "source": [
        "print(code)"
      ],
      "outputs": [],
      "execution_count": null,
      "metadata": {
        "jupyter": {
          "source_hidden": false,
          "outputs_hidden": false
        },
        "nteract": {
          "transient": {
            "deleting": false
          }
        },
        "gather": {
          "logged": 1713363006466
        }
      }
    }
  ],
  "metadata": {
    "kernelspec": {
      "name": "python310-sdkv2",
      "language": "python",
      "display_name": "Python 3.10 - SDK v2"
    },
    "language_info": {
      "name": "python",
      "version": "3.10.11",
      "mimetype": "text/x-python",
      "codemirror_mode": {
        "name": "ipython",
        "version": 3
      },
      "pygments_lexer": "ipython3",
      "nbconvert_exporter": "python",
      "file_extension": ".py"
    },
    "microsoft": {
      "ms_spell_check": {
        "ms_spell_check_language": "en"
      },
      "host": {
        "AzureML": {
          "notebookHasBeenCompleted": true
        }
      }
    },
    "kernel_info": {
      "name": "python310-sdkv2"
    },
    "nteract": {
      "version": "nteract-front-end@1.0.0"
    }
  },
  "nbformat": 4,
  "nbformat_minor": 2
}