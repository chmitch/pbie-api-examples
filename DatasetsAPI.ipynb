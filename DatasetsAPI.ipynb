{
  "cells": [
    {
      "cell_type": "markdown",
      "source": [
        "https://learn.microsoft.com/en-us/rest/api/power-bi/gateways/get-gateway"
      ],
      "metadata": {
        "nteract": {
          "transient": {
            "deleting": false
          }
        }
      }
    },
    {
      "cell_type": "code",
      "source": [
        "pip install requests msal jsons"
      ],
      "outputs": [
        {
          "output_type": "stream",
          "name": "stdout",
          "text": "Requirement already satisfied: requests in /anaconda/envs/azureml_py310_sdkv2/lib/python3.10/site-packages (2.31.0)\nRequirement already satisfied: msal in /anaconda/envs/azureml_py310_sdkv2/lib/python3.10/site-packages (1.28.0)\nRequirement already satisfied: jsons in /anaconda/envs/azureml_py310_sdkv2/lib/python3.10/site-packages (1.6.3)\nRequirement already satisfied: charset-normalizer<4,>=2 in /anaconda/envs/azureml_py310_sdkv2/lib/python3.10/site-packages (from requests) (3.3.2)\nRequirement already satisfied: idna<4,>=2.5 in /anaconda/envs/azureml_py310_sdkv2/lib/python3.10/site-packages (from requests) (3.7)\nRequirement already satisfied: urllib3<3,>=1.21.1 in /anaconda/envs/azureml_py310_sdkv2/lib/python3.10/site-packages (from requests) (2.2.1)\nRequirement already satisfied: certifi>=2017.4.17 in /anaconda/envs/azureml_py310_sdkv2/lib/python3.10/site-packages (from requests) (2024.2.2)\nRequirement already satisfied: PyJWT[crypto]<3,>=1.0.0 in /anaconda/envs/azureml_py310_sdkv2/lib/python3.10/site-packages (from msal) (2.8.0)\nRequirement already satisfied: cryptography<45,>=0.6 in /anaconda/envs/azureml_py310_sdkv2/lib/python3.10/site-packages (from msal) (41.0.7)\nRequirement already satisfied: typish>=1.9.2 in /anaconda/envs/azureml_py310_sdkv2/lib/python3.10/site-packages (from jsons) (1.9.3)\nRequirement already satisfied: cffi>=1.12 in /anaconda/envs/azureml_py310_sdkv2/lib/python3.10/site-packages (from cryptography<45,>=0.6->msal) (1.16.0)\nRequirement already satisfied: pycparser in /anaconda/envs/azureml_py310_sdkv2/lib/python3.10/site-packages (from cffi>=1.12->cryptography<45,>=0.6->msal) (2.22)\nNote: you may need to restart the kernel to use updated packages.\n"
        }
      ],
      "execution_count": 1,
      "metadata": {
        "gather": {
          "logged": 1715084516742
        }
      }
    },
    {
      "cell_type": "code",
      "source": [
        "workspaceId=\"16453fea-cb0f-4ef4-b1b2-bede9d3b92be\"\n",
        "reportId=\"1f1bcb75-f3a8-4577-8f3e-440bec9a31ec\"\n",
        "datasetId=\"ec9f50c1-72b1-47ad-b924-bf939a9dbfa5\""
      ],
      "outputs": [],
      "execution_count": 20,
      "metadata": {
        "jupyter": {
          "source_hidden": false,
          "outputs_hidden": false
        },
        "nteract": {
          "transient": {
            "deleting": false
          }
        },
        "gather": {
          "logged": 1715086771321
        }
      }
    },
    {
      "cell_type": "code",
      "source": [
        "#This leverages the code encapsulated in services/aadservice.py that encapsulates the service principle login\n",
        "from services.aadservice import AadService\n",
        "aadToken = AadService.get_access_token()\n",
        "requestHeader =  {'Content-Type': 'application/json', 'Authorization': 'Bearer ' + aadToken}"
      ],
      "outputs": [],
      "execution_count": 22,
      "metadata": {
        "jupyter": {
          "source_hidden": false,
          "outputs_hidden": false
        },
        "nteract": {
          "transient": {
            "deleting": false
          }
        },
        "gather": {
          "logged": 1715086840143
        }
      }
    },
    {
      "cell_type": "code",
      "source": [
        "#/myorg/datasets\n",
        "#Making this call without a named workspace will tell the api to default to the user's personal workspace.aad_token\n",
        "#This call will only work if there is a user profile, since we have authenticated with a service principal this returns a 403 error.\n",
        "import requests\n",
        "import json\n",
        "\n",
        "apiUrl = f'https://api.powerbi.com/v1.0/myorg/datasets'       \n",
        "\n",
        "# Generate Embed token for multiple workspaces, datasets, and reports. Refer https://aka.ms/MultiResourceEmbedToken\n",
        "apiResponse = requests.get(apiUrl, headers=requestHeader)\n",
        "if apiResponse.status_code != 200:\n",
        "    description = f'Error while retrieving datasets:\\n  -Status Code:\\t{apiResponse.status_code}\\n  -Reason:\\t{apiResponse.reason}\\n  -RequestId:\\t{apiResponse.headers.get(\"RequestId\")}\\n  -Text:\\t{apiResponse.text}'\n",
        "    print(description)\n",
        "else:\n",
        "    apiResponse = json.loads(apiResponse.text)\n",
        "    print(json.dumps(apiResponse,indent=2))\n"
      ],
      "outputs": [
        {
          "output_type": "stream",
          "name": "stdout",
          "text": "Error while retrieving datasets:\n  -Status Code:\t403\n  -Reason:\tForbidden\n  -RequestId:\t29a0c429-1cb4-40cf-8549-3d24e86fe551\n  -Text:\t{\"Message\":\"API is not accessible for application\"}\n"
        }
      ],
      "execution_count": 25,
      "metadata": {
        "jupyter": {
          "source_hidden": false,
          "outputs_hidden": false
        },
        "nteract": {
          "transient": {
            "deleting": false
          }
        },
        "gather": {
          "logged": 1715086931093
        }
      }
    },
    {
      "cell_type": "code",
      "source": [
        "#/myorg/groups/{workspace_id}/datasets\n",
        "#This retreives a list of datasets in the given workspace, notice the response value is wrapped in an array []\n",
        "import requests\n",
        "import json\n",
        "\n",
        "apiUrl = f'https://api.powerbi.com/v1.0/myorg/groups/{workspaceId}/datasets'       \n",
        "\n",
        "\n",
        "# Generate Embed token for multiple workspaces, datasets, and reports. Refer https://aka.ms/MultiResourceEmbedToken\n",
        "apiResponse = requests.get(apiUrl, headers=requestHeader)\n",
        "if apiResponse.status_code != 200:\n",
        "    description = f'Error while retrieving datasets:\\n  -Status Code:\\t{apiResponse.status_code}\\n  -Reason:\\t{apiResponse.reason}\\n  -RequestId:\\t{apiResponse.headers.get(\"RequestId\")}\\n  -Text:\\t{apiResponse.text}'\n",
        "    print(description)\n",
        "    #print(api_response.status_code, description=description)\n",
        "else:\n",
        "    apiResponse = json.loads(apiResponse.text)\n",
        "    print(json.dumps(apiResponse,indent=2))\n"
      ],
      "outputs": [
        {
          "output_type": "stream",
          "name": "stdout",
          "text": "{\n  \"@odata.context\": \"http://wabi-west-us3-a-primary-redirect.analysis.windows.net/v1.0/myorg/groups/16453fea-cb0f-4ef4-b1b2-bede9d3b92be/$metadata#datasets\",\n  \"value\": [\n    {\n      \"id\": \"ec9f50c1-72b1-47ad-b924-bf939a9dbfa5\",\n      \"name\": \"AdventureWorks\",\n      \"webUrl\": \"https://app.powerbi.com/groups/16453fea-cb0f-4ef4-b1b2-bede9d3b92be/datasets/ec9f50c1-72b1-47ad-b924-bf939a9dbfa5\",\n      \"addRowsAPIEnabled\": false,\n      \"configuredBy\": \"6709b293-4789-477f-aee2-607b7139e63c\",\n      \"isRefreshable\": true,\n      \"isEffectiveIdentityRequired\": false,\n      \"isEffectiveIdentityRolesRequired\": false,\n      \"isOnPremGatewayRequired\": false,\n      \"targetStorageMode\": \"Abf\",\n      \"createdDate\": \"2024-05-07T12:54:09.223Z\",\n      \"createReportEmbedURL\": \"https://app.powerbi.com/reportEmbed?config=eyJjbHVzdGVyVXJsIjoiaHR0cHM6Ly9XQUJJLVdFU1QtVVMzLUEtUFJJTUFSWS1yZWRpcmVjdC5hbmFseXNpcy53aW5kb3dzLm5ldCIsImVtYmVkRmVhdHVyZXMiOnsidXNhZ2VNZXRyaWNzVk5leHQiOnRydWV9fQ%3d%3d\",\n      \"qnaEmbedURL\": \"https://app.powerbi.com/qnaEmbed?config=eyJjbHVzdGVyVXJsIjoiaHR0cHM6Ly9XQUJJLVdFU1QtVVMzLUEtUFJJTUFSWS1yZWRpcmVjdC5hbmFseXNpcy53aW5kb3dzLm5ldCIsImVtYmVkRmVhdHVyZXMiOnsidXNhZ2VNZXRyaWNzVk5leHQiOnRydWV9fQ%3d%3d\",\n      \"upstreamDatasets\": [],\n      \"users\": [],\n      \"queryScaleOutSettings\": {\n        \"autoSyncReadOnlyReplicas\": true,\n        \"maxReadOnlyReplicas\": 0\n      }\n    }\n  ]\n}\n"
        }
      ],
      "execution_count": 26,
      "metadata": {
        "jupyter": {
          "source_hidden": false,
          "outputs_hidden": false
        },
        "nteract": {
          "transient": {
            "deleting": false
          }
        },
        "gather": {
          "logged": 1715086937626
        }
      }
    },
    {
      "cell_type": "code",
      "source": [
        "#/myorg/groups/{workspace_id}/datasets/{dataset_id}\n",
        "#This retreives the definition of a specific dataset given the workspace and dataset id.  Notice the absence of the array\n",
        "import requests\n",
        "import json\n",
        "apiUrl = f'https://api.powerbi.com/v1.0/myorg/groups/{workspaceId}/datasets/{datasetId}'       \n",
        "\n",
        "# Generate Embed token for multiple workspaces, datasets, and reports. Refer https://aka.ms/MultiResourceEmbedToken\n",
        "apiResponse = requests.get(apiUrl, headers=requestHeader)\n",
        "if apiResponse.status_code != 200:\n",
        "    description = f'Error while retrieving datasets:\\n  -Status Code:\\t{apiResponse.status_code}\\n  -Reason:\\t{apiResponse.reason}\\n  -RequestId:\\t{apiResponse.headers.get(\"RequestId\")}\\n  -Text:\\t{apiResponse.text}'\n",
        "    print(description)\n",
        "    #print(api_response.status_code, description=description)\n",
        "else:\n",
        "    apiResponse = json.loads(apiResponse.text)\n",
        "    print(json.dumps(apiResponse,indent=2))\n",
        "\n",
        "\n"
      ],
      "outputs": [
        {
          "output_type": "stream",
          "name": "stdout",
          "text": "{\n  \"@odata.context\": \"http://wabi-west-us3-a-primary-redirect.analysis.windows.net/v1.0/myorg/groups/16453fea-cb0f-4ef4-b1b2-bede9d3b92be/$metadata#datasets/$entity\",\n  \"id\": \"ec9f50c1-72b1-47ad-b924-bf939a9dbfa5\",\n  \"name\": \"AdventureWorks\",\n  \"webUrl\": \"https://app.powerbi.com/groups/16453fea-cb0f-4ef4-b1b2-bede9d3b92be/datasets/ec9f50c1-72b1-47ad-b924-bf939a9dbfa5\",\n  \"addRowsAPIEnabled\": false,\n  \"configuredBy\": \"6709b293-4789-477f-aee2-607b7139e63c\",\n  \"isRefreshable\": true,\n  \"isEffectiveIdentityRequired\": false,\n  \"isEffectiveIdentityRolesRequired\": false,\n  \"isOnPremGatewayRequired\": false,\n  \"targetStorageMode\": \"Abf\",\n  \"createdDate\": \"2024-05-07T12:54:09.223Z\",\n  \"createReportEmbedURL\": \"https://app.powerbi.com/reportEmbed?config=eyJjbHVzdGVyVXJsIjoiaHR0cHM6Ly9XQUJJLVdFU1QtVVMzLUEtUFJJTUFSWS1yZWRpcmVjdC5hbmFseXNpcy53aW5kb3dzLm5ldCIsImVtYmVkRmVhdHVyZXMiOnsidXNhZ2VNZXRyaWNzVk5leHQiOnRydWV9fQ%3d%3d\",\n  \"qnaEmbedURL\": \"https://app.powerbi.com/qnaEmbed?config=eyJjbHVzdGVyVXJsIjoiaHR0cHM6Ly9XQUJJLVdFU1QtVVMzLUEtUFJJTUFSWS1yZWRpcmVjdC5hbmFseXNpcy53aW5kb3dzLm5ldCIsImVtYmVkRmVhdHVyZXMiOnsidXNhZ2VNZXRyaWNzVk5leHQiOnRydWV9fQ%3d%3d\",\n  \"upstreamDatasets\": [],\n  \"users\": [],\n  \"queryScaleOutSettings\": {\n    \"autoSyncReadOnlyReplicas\": true,\n    \"maxReadOnlyReplicas\": 0\n  }\n}\n"
        }
      ],
      "execution_count": 27,
      "metadata": {
        "jupyter": {
          "source_hidden": false,
          "outputs_hidden": false
        },
        "nteract": {
          "transient": {
            "deleting": false
          }
        },
        "gather": {
          "logged": 1715087010114
        }
      }
    },
    {
      "cell_type": "code",
      "source": [
        "#/myorg/groups/{workspace_id}/datasets/{dataset_id}\n",
        "#This retreives the definition of a specific dataset given the workspace and dataset id.  Notice the absence of the array\n",
        "import requests\n",
        "import json\n",
        "apiUrl = f'https://api.powerbi.com/v1.0/myorg/groups/{workspaceId}/datasets/{datasetId}/datasources'       \n",
        "\n",
        "# Generate Embed token for multiple workspaces, datasets, and reports. Refer https://aka.ms/MultiResourceEmbedToken\n",
        "apiResponse = requests.get(apiUrl, headers=requestHeader)\n",
        "if apiResponse.status_code != 200:\n",
        "    description = f'Error while retrieving datasets:\\n  -Status Code:\\t{apiResponse.status_code}\\n  -Reason:\\t{apiResponse.reason}\\n  -RequestId:\\t{apiResponse.headers.get(\"RequestId\")}\\n  -Text:\\t{apiResponse.text}'\n",
        "    print(description)\n",
        "    #print(api_response.status_code, description=description)\n",
        "else:\n",
        "    apiResponse = json.loads(apiResponse.text)\n",
        "    print(json.dumps(apiResponse,indent=2))\n",
        "\n"
      ],
      "outputs": [
        {
          "output_type": "stream",
          "name": "stdout",
          "text": "{\n  \"@odata.context\": \"http://wabi-west-us3-a-primary-redirect.analysis.windows.net/v1.0/myorg/groups/16453fea-cb0f-4ef4-b1b2-bede9d3b92be/$metadata#datasources\",\n  \"value\": [\n    {\n      \"datasourceType\": \"Sql\",\n      \"connectionDetails\": {\n        \"server\": \"cgmawdw.database.windows.net\",\n        \"database\": \"adventureworksdw\"\n      },\n      \"datasourceId\": \"4a9bbf6e-ba39-4429-84e0-0a2f4c089c36\",\n      \"gatewayId\": \"5e33e147-3098-47a4-97bd-f36591b97b1c\"\n    }\n  ]\n}\n"
        }
      ],
      "execution_count": 28,
      "metadata": {
        "jupyter": {
          "source_hidden": false,
          "outputs_hidden": false
        },
        "nteract": {
          "transient": {
            "deleting": false
          }
        },
        "gather": {
          "logged": 1715087073724
        }
      }
    },
    {
      "cell_type": "code",
      "source": [
        "#/myorg/groups/{workspace_id}/datasets/{dataset_id}\n",
        "#This retreives the definition of a specific dataset given the workspace and dataset id.  Notice the absence of the array\n",
        "import requests\n",
        "import json\n",
        "\n",
        "gatewayId = \"5e33e147-3098-47a4-97bd-f36591b97b1c\"\n",
        "apiUrl = f'https://api.powerbi.com/v1.0/myorg/groups/{workspaceId}/gateways'#{gatewayId}'       \n",
        "\n",
        "# Generate Embed token for multiple workspaces, datasets, and reports. Refer https://aka.ms/MultiResourceEmbedToken\n",
        "apiResponse = requests.get(apiUrl, headers=requestHeader)\n",
        "if apiResponse.status_code != 200:\n",
        "    description = f'Error while retrieving datasets:\\n  -Status Code:\\t{apiResponse.status_code}\\n  -Reason:\\t{apiResponse.reason}\\n  -RequestId:\\t{apiResponse.headers.get(\"RequestId\")}\\n  -Text:\\t{apiResponse.text}'\n",
        "    print(description)\n",
        "    #print(api_response.status_code, description=description)\n",
        "else:\n",
        "    apiResponse = json.loads(apiResponse.text)\n",
        "    print(json.dumps(apiResponse,indent=2))"
      ],
      "outputs": [
        {
          "output_type": "stream",
          "name": "stdout",
          "text": "Error while retrieving datasets:\n  -Status Code:\t404\n  -Reason:\tNot Found\n  -RequestId:\tNone\n  -Text:\t\n"
        }
      ],
      "execution_count": 31,
      "metadata": {
        "jupyter": {
          "source_hidden": false,
          "outputs_hidden": false
        },
        "nteract": {
          "transient": {
            "deleting": false
          }
        },
        "gather": {
          "logged": 1715087438517
        }
      }
    },
    {
      "cell_type": "code",
      "source": [
        "#Now that I have the gateway id and the dataset id I can manipulate the dataset.\n",
        "\n",
        "datasource_id = '8985b478-cf58-44c0-85fa-104f84c0ab6a'\n",
        "gateway_id = '8985b478-cf58-44c0-85fa-104f84c0ab6a'\n",
        "\n",
        "import requests\n",
        "import jsons\n",
        "\n",
        "from models.basiccredential import BasicCredential, NameVal\n",
        "from models.credentialdetails import credentialDetails\n",
        "\n",
        "#This builds up a basic authentication credential like you might use against a SQL database using SQL auth\n",
        "bc = BasicCredential()\n",
        "bc.credentialData.append(NameVal(\"username\",\"sqluser\"))\n",
        "bc.credentialData.append(NameVal(\"password\",\"Pass@word!\"))\n",
        "\n",
        "#this builds the credential details object\n",
        "cd = credentialDetails(credential_type=\"Basic\",credential_body=jsons.dumps(bc),encrypted_connection=\"Encrypted\",privacy_level=\"None\")\n",
        "\n",
        "api_url = f'https://api.powerbi.com/v1.0/myorg/gateways/{gateway_id}/datasources/{datasource_id}'       \n",
        "\n",
        "# Generate Embed token for multiple workspaces, datasets, and reports. Refer https://aka.ms/MultiResourceEmbedToken\n",
        "api_response = requests.patch(api_url,data=jsons.dumps(cd),headers=request_header)\n",
        "if api_response.status_code != 200:\n",
        "    description = f'Error while retrieving datasets:\\n  -Status Code:\\t{api_response.status_code}\\n  -Reason:\\t{api_response.reason}\\n  -RequestId:\\t{api_response.headers.get(\"RequestId\")}\\n  -Text:\\t{api_response.text}'\n",
        "    print(description)\n",
        "    #print(api_response.status_code, description=description)\n",
        "else:\n",
        "    api_response = json.loads(api_response.text)\n",
        "    print(json.dumps(api_response,indent=2))"
      ],
      "outputs": [],
      "execution_count": null,
      "metadata": {
        "jupyter": {
          "source_hidden": false,
          "outputs_hidden": false
        },
        "nteract": {
          "transient": {
            "deleting": false
          }
        },
        "gather": {
          "logged": 1712673957013
        }
      }
    },
    {
      "cell_type": "code",
      "source": [
        "#This gets the details of a specific the datasources used by a dataset\n",
        "import requests\n",
        "import json\n",
        "\n",
        "api_url = f'https://api.powerbi.com/v1.0/myorg/datasources'       \n",
        "\n",
        "# Generate Embed token for multiple workspaces, datasets, and reports. Refer https://aka.ms/MultiResourceEmbedToken\n",
        "api_response = requests.get(api_url, headers=request_header)\n",
        "if api_response.status_code != 200:\n",
        "    description = f'Error while retrieving datasets:\\n  -Status Code:\\t{api_response.status_code}\\n  -Reason:\\t{api_response.reason}\\n  -RequestId:\\t{api_response.headers.get(\"RequestId\")}\\n  -Text:\\t{api_response.text}'\n",
        "    print(description)\n",
        "    #print(api_response.status_code, description=description)\n",
        "else:\n",
        "    api_response = json.loads(api_response.text)\n",
        "    print(json.dumps(api_response,indent=2))"
      ],
      "outputs": [],
      "execution_count": null,
      "metadata": {
        "jupyter": {
          "source_hidden": false,
          "outputs_hidden": false
        },
        "nteract": {
          "transient": {
            "deleting": false
          }
        },
        "gather": {
          "logged": 1712328749004
        }
      }
    },
    {
      "cell_type": "code",
      "source": [
        "#/myorg/groups/{workspace_id}/datasets\n",
        "#This retreives a list of datasets in the given workspace, notice the response value is wrapped in an array []\n",
        "import requests\n",
        "import json\n",
        "\n",
        "apiUrl = f'https://api.powerbi.com/v1.0/myorg/groups/{workspaceId}/datasets'       \n",
        "\n",
        "\n",
        "# Generate Embed token for multiple workspaces, datasets, and reports. Refer https://aka.ms/MultiResourceEmbedToken\n",
        "apiResponse = requests.get(apiUrl, headers=aad)\n",
        "if apiResponse.status_code != 200:\n",
        "    description = f'Error while retrieving datasets:\\n  -Status Code:\\t{apiResponse.status_code}\\n  -Reason:\\t{apiResponse.reason}\\n  -RequestId:\\t{apiResponse.headers.get(\"RequestId\")}\\n  -Text:\\t{apiResponse.text}'\n",
        "    print(description)\n",
        "    #print(api_response.status_code, description=description)\n",
        "else:\n",
        "    apiResponse = json.loads(apiResponse.text)\n",
        "    print(json.dumps(apiResponse,indent=2))"
      ],
      "outputs": [],
      "execution_count": null,
      "metadata": {
        "jupyter": {
          "source_hidden": false,
          "outputs_hidden": false
        },
        "nteract": {
          "transient": {
            "deleting": false
          }
        }
      }
    },
    {
      "cell_type": "code",
      "source": [
        "dataSources = "
      ],
      "outputs": [],
      "execution_count": null,
      "metadata": {
        "jupyter": {
          "source_hidden": false,
          "outputs_hidden": false
        },
        "nteract": {
          "transient": {
            "deleting": false
          }
        }
      }
    }
  ],
  "metadata": {
    "kernelspec": {
      "name": "python310-sdkv2",
      "language": "python",
      "display_name": "Python 3.10 - SDK v2"
    },
    "language_info": {
      "name": "python",
      "version": "3.10.11",
      "mimetype": "text/x-python",
      "codemirror_mode": {
        "name": "ipython",
        "version": 3
      },
      "pygments_lexer": "ipython3",
      "nbconvert_exporter": "python",
      "file_extension": ".py"
    },
    "microsoft": {
      "ms_spell_check": {
        "ms_spell_check_language": "en"
      },
      "host": {
        "AzureML": {
          "notebookHasBeenCompleted": true
        }
      }
    },
    "kernel_info": {
      "name": "python310-sdkv2"
    },
    "nteract": {
      "version": "nteract-front-end@1.0.0"
    }
  },
  "nbformat": 4,
  "nbformat_minor": 2
}