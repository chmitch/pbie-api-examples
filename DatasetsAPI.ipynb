{
  "cells": [
    {
      "cell_type": "code",
      "source": [
        "pip install requests msal jsons"
      ],
      "outputs": [
        {
          "output_type": "stream",
          "name": "stdout",
          "text": "Requirement already satisfied: requests in /anaconda/envs/azureml_py310_sdkv2/lib/python3.10/site-packages (2.31.0)\nRequirement already satisfied: msal in /anaconda/envs/azureml_py310_sdkv2/lib/python3.10/site-packages (1.22.0)\nRequirement already satisfied: jsons in /anaconda/envs/azureml_py310_sdkv2/lib/python3.10/site-packages (1.6.3)\nRequirement already satisfied: charset-normalizer<4,>=2 in /anaconda/envs/azureml_py310_sdkv2/lib/python3.10/site-packages (from requests) (3.1.0)\nRequirement already satisfied: idna<4,>=2.5 in /anaconda/envs/azureml_py310_sdkv2/lib/python3.10/site-packages (from requests) (3.4)\nRequirement already satisfied: urllib3<3,>=1.21.1 in /anaconda/envs/azureml_py310_sdkv2/lib/python3.10/site-packages (from requests) (1.26.16)\nRequirement already satisfied: certifi>=2017.4.17 in /anaconda/envs/azureml_py310_sdkv2/lib/python3.10/site-packages (from requests) (2023.5.7)\nRequirement already satisfied: PyJWT[crypto]<3,>=1.0.0 in /anaconda/envs/azureml_py310_sdkv2/lib/python3.10/site-packages (from msal) (2.7.0)\nRequirement already satisfied: cryptography<43,>=0.6 in /anaconda/envs/azureml_py310_sdkv2/lib/python3.10/site-packages (from msal) (41.0.1)\nRequirement already satisfied: typish>=1.9.2 in /anaconda/envs/azureml_py310_sdkv2/lib/python3.10/site-packages (from jsons) (1.9.3)\nRequirement already satisfied: cffi>=1.12 in /anaconda/envs/azureml_py310_sdkv2/lib/python3.10/site-packages (from cryptography<43,>=0.6->msal) (1.15.1)\nRequirement already satisfied: pycparser in /anaconda/envs/azureml_py310_sdkv2/lib/python3.10/site-packages (from cffi>=1.12->cryptography<43,>=0.6->msal) (2.21)\nNote: you may need to restart the kernel to use updated packages.\n"
        }
      ],
      "execution_count": 9,
      "metadata": {
        "gather": {
          "logged": 1712256370893
        }
      }
    },
    {
      "cell_type": "code",
      "source": [
        "from services.aadservice import AadService\n",
        "aad_token = AadService.get_access_token()"
      ],
      "outputs": [],
      "execution_count": 10,
      "metadata": {
        "jupyter": {
          "source_hidden": false,
          "outputs_hidden": false
        },
        "nteract": {
          "transient": {
            "deleting": false
          }
        },
        "gather": {
          "logged": 1712256371499
        }
      }
    },
    {
      "cell_type": "code",
      "source": [
        "workspace_id=\"16453fea-cb0f-4ef4-b1b2-bede9d3b92be\"\n",
        "report_id=\"b4b28d3a-7556-4210-af1a-280977ca682b\"\n",
        "dataset_id=\"4fd9148f-c380-488a-a1b2-ceac7d0411e3\"\n"
      ],
      "outputs": [],
      "execution_count": 11,
      "metadata": {
        "jupyter": {
          "source_hidden": false,
          "outputs_hidden": false
        },
        "nteract": {
          "transient": {
            "deleting": false
          }
        },
        "gather": {
          "logged": 1712256372448
        }
      }
    },
    {
      "cell_type": "code",
      "source": [
        "request_header =  {'Content-Type': 'application/json', 'Authorization': 'Bearer ' + AadService.get_access_token()}\n",
        "#print(request_header)"
      ],
      "outputs": [],
      "execution_count": 12,
      "metadata": {
        "jupyter": {
          "source_hidden": false,
          "outputs_hidden": false
        },
        "nteract": {
          "transient": {
            "deleting": false
          }
        },
        "gather": {
          "logged": 1712256374154
        }
      }
    },
    {
      "cell_type": "code",
      "source": [
        "#/myorg/datasets\n",
        "#Making this call without a named workspace will tell the api to default to the user's personal workspace.aad_token\n",
        "#This call will only work if there is a user profile, since we have authenticated with a service principal this returns a 403 error.\n",
        "import requests\n",
        "import json\n",
        "\n",
        "api_url = f'https://api.powerbi.com/v1.0/myorg/datasets'       \n",
        "\n",
        "# Generate Embed token for multiple workspaces, datasets, and reports. Refer https://aka.ms/MultiResourceEmbedToken\n",
        "api_response = requests.get(api_url, headers=request_header)\n",
        "if api_response.status_code != 200:\n",
        "    description = f'Error while retrieving datasets:\\n  -Status Code:\\t{api_response.status_code}\\n  -Reason:\\t{api_response.reason}\\n  -RequestId:\\t{api_response.headers.get(\"RequestId\")}\\n  -Text:\\t{api_response.text}'\n",
        "    print(description)\n",
        "else:\n",
        "    api_response = json.loads(api_response.text)\n",
        "    print(json.dumps(api_response,indent=2))\n"
      ],
      "outputs": [
        {
          "output_type": "stream",
          "name": "stdout",
          "text": "Error while retrieving datasets:\n  -Status Code:\t403\n  -Reason:\tForbidden\n  -RequestId:\ta20fdf06-e1dc-4917-9c9e-1ac31b4337ca\n  -Text:\t{\"Message\":\"API is not accessible for application\"}\n"
        }
      ],
      "execution_count": 13,
      "metadata": {
        "jupyter": {
          "source_hidden": false,
          "outputs_hidden": false
        },
        "nteract": {
          "transient": {
            "deleting": false
          }
        },
        "gather": {
          "logged": 1712256376455
        }
      }
    },
    {
      "cell_type": "code",
      "source": [
        "#/myorg/groups/{workspace_id}/datasets\n",
        "#This retreives a list of datasets in the given workspace, notice the response value is wrapped in an array []\n",
        "import requests\n",
        "import json\n",
        "\n",
        "api_url = f'https://api.powerbi.com/v1.0/myorg/groups/{workspace_id}/datasets'       \n",
        "\n",
        "\n",
        "# Generate Embed token for multiple workspaces, datasets, and reports. Refer https://aka.ms/MultiResourceEmbedToken\n",
        "api_response = requests.get(api_url, headers=request_header)\n",
        "if api_response.status_code != 200:\n",
        "    description = f'Error while retrieving datasets:\\n  -Status Code:\\t{api_response.status_code}\\n  -Reason:\\t{api_response.reason}\\n  -RequestId:\\t{api_response.headers.get(\"RequestId\")}\\n  -Text:\\t{api_response.text}'\n",
        "    print(description)\n",
        "    #print(api_response.status_code, description=description)\n",
        "else:\n",
        "    api_response = json.loads(api_response.text)\n",
        "    print(json.dumps(api_response,indent=2))\n"
      ],
      "outputs": [
        {
          "output_type": "stream",
          "name": "stdout",
          "text": "{\n  \"@odata.context\": \"http://wabi-west-us3-a-primary-redirect.analysis.windows.net/v1.0/myorg/groups/16453fea-cb0f-4ef4-b1b2-bede9d3b92be/$metadata#datasets\",\n  \"value\": [\n    {\n      \"id\": \"4fd9148f-c380-488a-a1b2-ceac7d0411e3\",\n      \"name\": \"AdventureWorks\",\n      \"webUrl\": \"https://app.powerbi.com/groups/16453fea-cb0f-4ef4-b1b2-bede9d3b92be/datasets/4fd9148f-c380-488a-a1b2-ceac7d0411e3\",\n      \"addRowsAPIEnabled\": false,\n      \"configuredBy\": \"chmitch@microsoftanalytics.info\",\n      \"isRefreshable\": true,\n      \"isEffectiveIdentityRequired\": false,\n      \"isEffectiveIdentityRolesRequired\": false,\n      \"isOnPremGatewayRequired\": false,\n      \"targetStorageMode\": \"Abf\",\n      \"createdDate\": \"2024-04-03T20:14:46.147Z\",\n      \"createReportEmbedURL\": \"https://app.powerbi.com/reportEmbed?config=eyJjbHVzdGVyVXJsIjoiaHR0cHM6Ly9XQUJJLVdFU1QtVVMzLUEtUFJJTUFSWS1yZWRpcmVjdC5hbmFseXNpcy53aW5kb3dzLm5ldCIsImVtYmVkRmVhdHVyZXMiOnsidXNhZ2VNZXRyaWNzVk5leHQiOnRydWUsImRpc2FibGVBbmd1bGFySlNCb290c3RyYXBSZXBvcnRFbWJlZCI6dHJ1ZX19\",\n      \"qnaEmbedURL\": \"https://app.powerbi.com/qnaEmbed?config=eyJjbHVzdGVyVXJsIjoiaHR0cHM6Ly9XQUJJLVdFU1QtVVMzLUEtUFJJTUFSWS1yZWRpcmVjdC5hbmFseXNpcy53aW5kb3dzLm5ldCIsImVtYmVkRmVhdHVyZXMiOnsidXNhZ2VNZXRyaWNzVk5leHQiOnRydWV9fQ%3d%3d\",\n      \"upstreamDatasets\": [],\n      \"users\": [],\n      \"queryScaleOutSettings\": {\n        \"autoSyncReadOnlyReplicas\": true,\n        \"maxReadOnlyReplicas\": 0\n      }\n    }\n  ]\n}\n"
        }
      ],
      "execution_count": 14,
      "metadata": {
        "jupyter": {
          "source_hidden": false,
          "outputs_hidden": false
        },
        "nteract": {
          "transient": {
            "deleting": false
          }
        },
        "gather": {
          "logged": 1712256378179
        }
      }
    },
    {
      "cell_type": "code",
      "source": [
        "#/myorg/groups/{workspace_id}/datasets/{dataset_id}\n",
        "#This retreives the definition of a specific dataset given the workspace and dataset id.  Notice the absence of the array\n",
        "import requests\n",
        "import json\n",
        "api_url = f'https://api.powerbi.com/v1.0/myorg/groups/{workspace_id}/datasets/{dataset_id}'       \n",
        "\n",
        "# Generate Embed token for multiple workspaces, datasets, and reports. Refer https://aka.ms/MultiResourceEmbedToken\n",
        "api_response = requests.get(api_url, headers=request_header)\n",
        "if api_response.status_code != 200:\n",
        "    description = f'Error while retrieving datasets:\\n  -Status Code:\\t{api_response.status_code}\\n  -Reason:\\t{api_response.reason}\\n  -RequestId:\\t{api_response.headers.get(\"RequestId\")}\\n  -Text:\\t{api_response.text}'\n",
        "    print(description)\n",
        "    #print(api_response.status_code, description=description)\n",
        "else:\n",
        "    api_response = json.loads(api_response.text)\n",
        "    print(json.dumps(api_response,indent=2))\n",
        "\n",
        "\n"
      ],
      "outputs": [
        {
          "output_type": "stream",
          "name": "stdout",
          "text": "{\n  \"@odata.context\": \"http://wabi-west-us3-a-primary-redirect.analysis.windows.net/v1.0/myorg/groups/16453fea-cb0f-4ef4-b1b2-bede9d3b92be/$metadata#datasets/$entity\",\n  \"id\": \"4fd9148f-c380-488a-a1b2-ceac7d0411e3\",\n  \"name\": \"AdventureWorks\",\n  \"webUrl\": \"https://app.powerbi.com/groups/16453fea-cb0f-4ef4-b1b2-bede9d3b92be/datasets/4fd9148f-c380-488a-a1b2-ceac7d0411e3\",\n  \"addRowsAPIEnabled\": false,\n  \"configuredBy\": \"chmitch@microsoftanalytics.info\",\n  \"isRefreshable\": true,\n  \"isEffectiveIdentityRequired\": false,\n  \"isEffectiveIdentityRolesRequired\": false,\n  \"isOnPremGatewayRequired\": false,\n  \"targetStorageMode\": \"Abf\",\n  \"createdDate\": \"2024-04-03T20:14:46.147Z\",\n  \"createReportEmbedURL\": \"https://app.powerbi.com/reportEmbed?config=eyJjbHVzdGVyVXJsIjoiaHR0cHM6Ly9XQUJJLVdFU1QtVVMzLUEtUFJJTUFSWS1yZWRpcmVjdC5hbmFseXNpcy53aW5kb3dzLm5ldCIsImVtYmVkRmVhdHVyZXMiOnsidXNhZ2VNZXRyaWNzVk5leHQiOnRydWUsImRpc2FibGVBbmd1bGFySlNCb290c3RyYXBSZXBvcnRFbWJlZCI6dHJ1ZX19\",\n  \"qnaEmbedURL\": \"https://app.powerbi.com/qnaEmbed?config=eyJjbHVzdGVyVXJsIjoiaHR0cHM6Ly9XQUJJLVdFU1QtVVMzLUEtUFJJTUFSWS1yZWRpcmVjdC5hbmFseXNpcy53aW5kb3dzLm5ldCIsImVtYmVkRmVhdHVyZXMiOnsidXNhZ2VNZXRyaWNzVk5leHQiOnRydWV9fQ%3d%3d\",\n  \"upstreamDatasets\": [],\n  \"users\": [],\n  \"queryScaleOutSettings\": {\n    \"autoSyncReadOnlyReplicas\": true,\n    \"maxReadOnlyReplicas\": 0\n  }\n}\n"
        }
      ],
      "execution_count": 15,
      "metadata": {
        "jupyter": {
          "source_hidden": false,
          "outputs_hidden": false
        },
        "nteract": {
          "transient": {
            "deleting": false
          }
        },
        "gather": {
          "logged": 1712256380378
        }
      }
    },
    {
      "cell_type": "code",
      "source": [
        "#/myorg/groups/{workspace_id}/datasets/{dataset_id}\n",
        "#This retreives the definition of a specific dataset given the workspace and dataset id.  Notice the absence of the array\n",
        "import requests\n",
        "import json\n",
        "api_url = f'https://api.powerbi.com/v1.0/myorg/groups/{workspace_id}/datasets/{dataset_id}/datasources'       \n",
        "\n",
        "# Generate Embed token for multiple workspaces, datasets, and reports. Refer https://aka.ms/MultiResourceEmbedToken\n",
        "api_response = requests.get(api_url, headers=request_header)\n",
        "if api_response.status_code != 200:\n",
        "    description = f'Error while retrieving datasets:\\n  -Status Code:\\t{api_response.status_code}\\n  -Reason:\\t{api_response.reason}\\n  -RequestId:\\t{api_response.headers.get(\"RequestId\")}\\n  -Text:\\t{api_response.text}'\n",
        "    print(description)\n",
        "    #print(api_response.status_code, description=description)\n",
        "else:\n",
        "    api_response = json.loads(api_response.text)\n",
        "    print(json.dumps(api_response,indent=2))\n",
        "\n"
      ],
      "outputs": [
        {
          "output_type": "stream",
          "name": "stdout",
          "text": "{\n  \"@odata.context\": \"http://wabi-west-us3-a-primary-redirect.analysis.windows.net/v1.0/myorg/groups/16453fea-cb0f-4ef4-b1b2-bede9d3b92be/$metadata#datasources\",\n  \"value\": [\n    {\n      \"datasourceType\": \"Sql\",\n      \"connectionDetails\": {\n        \"server\": \"cgmawdw.database.windows.net\",\n        \"database\": \"adventureworksdw\"\n      },\n      \"datasourceId\": \"749ba1d1-c599-4497-a599-8ea5fa0708f2\",\n      \"gatewayId\": \"403f78e7-1b3f-4489-a096-1981176e2528\"\n    }\n  ]\n}\n"
        }
      ],
      "execution_count": 16,
      "metadata": {
        "jupyter": {
          "source_hidden": false,
          "outputs_hidden": false
        },
        "nteract": {
          "transient": {
            "deleting": false
          }
        },
        "gather": {
          "logged": 1712256383422
        }
      }
    },
    {
      "cell_type": "code",
      "source": [
        "#Now that I have the gateway id and the dataset id I can manipulate the dataset.\n",
        "\n",
        "datasource_id = '749ba1d1-c599-4497-a599-8ea5fa0708f2'\n",
        "gateway_id = '403f78e7-1b3f-4489-a096-1981176e2528'\n",
        "\n",
        "import requests\n",
        "import jsons\n",
        "\n",
        "from models.basiccredential import BasicCredential, NameVal\n",
        "from models.credentialdetails import credentialDetails\n",
        "\n",
        "#This builds up a basic authentication credential like you might use against a SQL database using SQL auth\n",
        "bc = BasicCredential()\n",
        "bc.credentialData.append(NameVal(\"username\",\"cgmsqladmin\"))\n",
        "bc.credentialData.append(NameVal(\"password\",\"foo\"))\n",
        "\n",
        "#this builds the credential details object\n",
        "cd = credentialDetails(credential_type=\"Basic\",credential_body=jsons.dumps(bc),encrypted_connection=\"Encrypted\",privacy_level=\"None\")\n",
        "\n",
        "api_url = f'https://api.powerbi.com/v1.0/myorg/gateways/{gateway_id}/datasources/{datasource_id}'       \n",
        "\n",
        "# Generate Embed token for multiple workspaces, datasets, and reports. Refer https://aka.ms/MultiResourceEmbedToken\n",
        "api_response = requests.patch(api_url,data=jsons.dumps(cd),headers=request_header)\n",
        "if api_response.status_code != 200:\n",
        "    description = f'Error while retrieving datasets:\\n  -Status Code:\\t{api_response.status_code}\\n  -Reason:\\t{api_response.reason}\\n  -RequestId:\\t{api_response.headers.get(\"RequestId\")}\\n  -Text:\\t{api_response.text}'\n",
        "    print(description)\n",
        "    #print(api_response.status_code, description=description)\n",
        "else:\n",
        "    api_response = json.loads(api_response.text)\n",
        "    print(json.dumps(api_response,indent=2))"
      ],
      "outputs": [
        {
          "output_type": "stream",
          "name": "stdout",
          "text": "Error while retrieving datasets:\n  -Status Code:\t401\n  -Reason:\tUnauthorized\n  -RequestId:\t9ea1a2a0-2d9f-44d8-84e7-4e1318a3d35a\n  -Text:\t{\"error\":{\"code\":\"PowerBINotAuthorizedException\",\"pbi.error\":{\"code\":\"PowerBINotAuthorizedException\",\"parameters\":{},\"details\":[],\"exceptionCulprit\":1}}}\n"
        }
      ],
      "execution_count": 17,
      "metadata": {
        "jupyter": {
          "source_hidden": false,
          "outputs_hidden": false
        },
        "nteract": {
          "transient": {
            "deleting": false
          }
        },
        "gather": {
          "logged": 1712256401733
        }
      }
    },
    {
      "cell_type": "code",
      "source": [
        "#This gets the details of a specific the datasources used by a dataset\n",
        "import requests\n",
        "import json\n",
        "\n",
        "api_url = f'https://api.powerbi.com/v1.0/myorg/datasources'       \n",
        "\n",
        "# Generate Embed token for multiple workspaces, datasets, and reports. Refer https://aka.ms/MultiResourceEmbedToken\n",
        "api_response = requests.get(api_url, headers=request_header)\n",
        "if api_response.status_code != 200:\n",
        "    description = f'Error while retrieving datasets:\\n  -Status Code:\\t{api_response.status_code}\\n  -Reason:\\t{api_response.reason}\\n  -RequestId:\\t{api_response.headers.get(\"RequestId\")}\\n  -Text:\\t{api_response.text}'\n",
        "    print(description)\n",
        "    #print(api_response.status_code, description=description)\n",
        "else:\n",
        "    api_response = json.loads(api_response.text)\n",
        "    print(json.dumps(api_response,indent=2))"
      ],
      "outputs": [
        {
          "output_type": "stream",
          "name": "stdout",
          "text": "Error while retrieving datasets:\n  -Status Code:\t404\n  -Reason:\tNot Found\n  -RequestId:\tNone\n  -Text:\t\n"
        }
      ],
      "execution_count": 42,
      "metadata": {
        "jupyter": {
          "source_hidden": false,
          "outputs_hidden": false
        },
        "nteract": {
          "transient": {
            "deleting": false
          }
        },
        "gather": {
          "logged": 1712241312221
        }
      }
    },
    {
      "cell_type": "code",
      "source": [
        "\n"
      ],
      "outputs": [
        {
          "output_type": "stream",
          "name": "stdout",
          "text": "{\"CredentialDetails\": {\"credential\": \"{\\\"credentialData\\\": [{\\\"name\\\": \\\"username\\\", \\\"val\\\": \\\"cgmsqladmin\\\"}, {\\\"name\\\": \\\"password\\\", \\\"val\\\": \\\"foo\\\"}]}\", \"credentialType\": \"foo\", \"encryptedConnection\": \"Encrypted\", \"privacyLevel\": \"None\"}}\n"
        }
      ],
      "execution_count": 2,
      "metadata": {
        "jupyter": {
          "source_hidden": false,
          "outputs_hidden": false
        },
        "nteract": {
          "transient": {
            "deleting": false
          }
        },
        "gather": {
          "logged": 1712254404151
        }
      }
    },
    {
      "cell_type": "code",
      "source": [],
      "outputs": [],
      "execution_count": null,
      "metadata": {
        "jupyter": {
          "source_hidden": false,
          "outputs_hidden": false
        },
        "nteract": {
          "transient": {
            "deleting": false
          }
        }
      }
    }
  ],
  "metadata": {
    "kernelspec": {
      "name": "python310-sdkv2",
      "language": "python",
      "display_name": "Python 3.10 - SDK v2"
    },
    "language_info": {
      "name": "python",
      "version": "3.10.11",
      "mimetype": "text/x-python",
      "codemirror_mode": {
        "name": "ipython",
        "version": 3
      },
      "pygments_lexer": "ipython3",
      "nbconvert_exporter": "python",
      "file_extension": ".py"
    },
    "microsoft": {
      "ms_spell_check": {
        "ms_spell_check_language": "en"
      },
      "host": {
        "AzureML": {
          "notebookHasBeenCompleted": true
        }
      }
    },
    "kernel_info": {
      "name": "python310-sdkv2"
    },
    "nteract": {
      "version": "nteract-front-end@1.0.0"
    }
  },
  "nbformat": 4,
  "nbformat_minor": 2
}