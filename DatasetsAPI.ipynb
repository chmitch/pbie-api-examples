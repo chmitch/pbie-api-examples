{
  "cells": [
    {
      "cell_type": "markdown",
      "source": [],
      "metadata": {
        "nteract": {
          "transient": {
            "deleting": false
          }
        }
      }
    },
    {
      "cell_type": "code",
      "source": [
        "pip install requests msal jsons"
      ],
      "outputs": [],
      "execution_count": null,
      "metadata": {
        "gather": {
          "logged": 1712673824710
        }
      }
    },
    {
      "cell_type": "code",
      "source": [
        "#This leverages the code encapsulated in services/aadservice.py that encapsulates the service principle login\n",
        "from services.aadservice import AadService\n",
        "aad_token = AadService.get_access_token()"
      ],
      "outputs": [],
      "execution_count": null,
      "metadata": {
        "jupyter": {
          "source_hidden": false,
          "outputs_hidden": false
        },
        "nteract": {
          "transient": {
            "deleting": false
          }
        },
        "gather": {
          "logged": 1712673827065
        }
      }
    },
    {
      "cell_type": "code",
      "source": [
        "workspace_id=\"16453fea-cb0f-4ef4-b1b2-bede9d3b92be\"\n",
        "report_id=\"1f1bcb75-f3a8-4577-8f3e-440bec9a31ec\"\n",
        "dataset_id=\"383f32cc-1ff3-4660-bc75-03e90dd9f756\"\n"
      ],
      "outputs": [],
      "execution_count": null,
      "metadata": {
        "jupyter": {
          "source_hidden": false,
          "outputs_hidden": false
        },
        "nteract": {
          "transient": {
            "deleting": false
          }
        },
        "gather": {
          "logged": 1712673831132
        }
      }
    },
    {
      "cell_type": "code",
      "source": [
        "request_header =  {'Content-Type': 'application/json', 'Authorization': 'Bearer ' + aad_token}\n",
        "#print(request_header)"
      ],
      "outputs": [],
      "execution_count": null,
      "metadata": {
        "jupyter": {
          "source_hidden": false,
          "outputs_hidden": false
        },
        "nteract": {
          "transient": {
            "deleting": false
          }
        },
        "gather": {
          "logged": 1712673834003
        }
      }
    },
    {
      "cell_type": "code",
      "source": [
        "#/myorg/datasets\n",
        "#Making this call without a named workspace will tell the api to default to the user's personal workspace.aad_token\n",
        "#This call will only work if there is a user profile, since we have authenticated with a service principal this returns a 403 error.\n",
        "import requests\n",
        "import json\n",
        "\n",
        "api_url = f'https://api.powerbi.com/v1.0/myorg/datasets'       \n",
        "\n",
        "# Generate Embed token for multiple workspaces, datasets, and reports. Refer https://aka.ms/MultiResourceEmbedToken\n",
        "api_response = requests.get(api_url, headers=request_header)\n",
        "if api_response.status_code != 200:\n",
        "    description = f'Error while retrieving datasets:\\n  -Status Code:\\t{api_response.status_code}\\n  -Reason:\\t{api_response.reason}\\n  -RequestId:\\t{api_response.headers.get(\"RequestId\")}\\n  -Text:\\t{api_response.text}'\n",
        "    print(description)\n",
        "else:\n",
        "    api_response = json.loads(api_response.text)\n",
        "    print(json.dumps(api_response,indent=2))\n"
      ],
      "outputs": [],
      "execution_count": null,
      "metadata": {
        "jupyter": {
          "source_hidden": false,
          "outputs_hidden": false
        },
        "nteract": {
          "transient": {
            "deleting": false
          }
        },
        "gather": {
          "logged": 1712673840287
        }
      }
    },
    {
      "cell_type": "code",
      "source": [
        "#/myorg/groups/{workspace_id}/datasets\n",
        "#This retreives a list of datasets in the given workspace, notice the response value is wrapped in an array []\n",
        "import requests\n",
        "import json\n",
        "\n",
        "api_url = f'https://api.powerbi.com/v1.0/myorg/groups/{workspace_id}/datasets'       \n",
        "\n",
        "\n",
        "# Generate Embed token for multiple workspaces, datasets, and reports. Refer https://aka.ms/MultiResourceEmbedToken\n",
        "api_response = requests.get(api_url, headers=request_header)\n",
        "if api_response.status_code != 200:\n",
        "    description = f'Error while retrieving datasets:\\n  -Status Code:\\t{api_response.status_code}\\n  -Reason:\\t{api_response.reason}\\n  -RequestId:\\t{api_response.headers.get(\"RequestId\")}\\n  -Text:\\t{api_response.text}'\n",
        "    print(description)\n",
        "    #print(api_response.status_code, description=description)\n",
        "else:\n",
        "    api_response = json.loads(api_response.text)\n",
        "    print(json.dumps(api_response,indent=2))\n"
      ],
      "outputs": [],
      "execution_count": null,
      "metadata": {
        "jupyter": {
          "source_hidden": false,
          "outputs_hidden": false
        },
        "nteract": {
          "transient": {
            "deleting": false
          }
        },
        "gather": {
          "logged": 1712673903092
        }
      }
    },
    {
      "cell_type": "code",
      "source": [
        "#/myorg/groups/{workspace_id}/datasets/{dataset_id}\n",
        "#This retreives the definition of a specific dataset given the workspace and dataset id.  Notice the absence of the array\n",
        "import requests\n",
        "import json\n",
        "api_url = f'https://api.powerbi.com/v1.0/myorg/groups/{workspace_id}/datasets/{dataset_id}'       \n",
        "\n",
        "# Generate Embed token for multiple workspaces, datasets, and reports. Refer https://aka.ms/MultiResourceEmbedToken\n",
        "api_response = requests.get(api_url, headers=request_header)\n",
        "if api_response.status_code != 200:\n",
        "    description = f'Error while retrieving datasets:\\n  -Status Code:\\t{api_response.status_code}\\n  -Reason:\\t{api_response.reason}\\n  -RequestId:\\t{api_response.headers.get(\"RequestId\")}\\n  -Text:\\t{api_response.text}'\n",
        "    print(description)\n",
        "    #print(api_response.status_code, description=description)\n",
        "else:\n",
        "    api_response = json.loads(api_response.text)\n",
        "    print(json.dumps(api_response,indent=2))\n",
        "\n",
        "\n"
      ],
      "outputs": [],
      "execution_count": null,
      "metadata": {
        "jupyter": {
          "source_hidden": false,
          "outputs_hidden": false
        },
        "nteract": {
          "transient": {
            "deleting": false
          }
        },
        "gather": {
          "logged": 1712673927712
        }
      }
    },
    {
      "cell_type": "code",
      "source": [
        "#/myorg/groups/{workspace_id}/datasets/{dataset_id}\n",
        "#This retreives the definition of a specific dataset given the workspace and dataset id.  Notice the absence of the array\n",
        "import requests\n",
        "import json\n",
        "api_url = f'https://api.powerbi.com/v1.0/myorg/groups/{workspace_id}/datasets/{dataset_id}/datasources'       \n",
        "\n",
        "# Generate Embed token for multiple workspaces, datasets, and reports. Refer https://aka.ms/MultiResourceEmbedToken\n",
        "api_response = requests.get(api_url, headers=request_header)\n",
        "if api_response.status_code != 200:\n",
        "    description = f'Error while retrieving datasets:\\n  -Status Code:\\t{api_response.status_code}\\n  -Reason:\\t{api_response.reason}\\n  -RequestId:\\t{api_response.headers.get(\"RequestId\")}\\n  -Text:\\t{api_response.text}'\n",
        "    print(description)\n",
        "    #print(api_response.status_code, description=description)\n",
        "else:\n",
        "    api_response = json.loads(api_response.text)\n",
        "    print(json.dumps(api_response,indent=2))\n",
        "\n"
      ],
      "outputs": [],
      "execution_count": null,
      "metadata": {
        "jupyter": {
          "source_hidden": false,
          "outputs_hidden": false
        },
        "nteract": {
          "transient": {
            "deleting": false
          }
        },
        "gather": {
          "logged": 1712673941229
        }
      }
    },
    {
      "cell_type": "code",
      "source": [
        "#Now that I have the gateway id and the dataset id I can manipulate the dataset.\n",
        "\n",
        "datasource_id = '8985b478-cf58-44c0-85fa-104f84c0ab6a'\n",
        "gateway_id = '8985b478-cf58-44c0-85fa-104f84c0ab6a'\n",
        "\n",
        "import requests\n",
        "import jsons\n",
        "\n",
        "from models.basiccredential import BasicCredential, NameVal\n",
        "from models.credentialdetails import credentialDetails\n",
        "\n",
        "#This builds up a basic authentication credential like you might use against a SQL database using SQL auth\n",
        "bc = BasicCredential()\n",
        "bc.credentialData.append(NameVal(\"username\",\"sqluser\"))\n",
        "bc.credentialData.append(NameVal(\"password\",\"Pass@word!\"))\n",
        "\n",
        "#this builds the credential details object\n",
        "cd = credentialDetails(credential_type=\"Basic\",credential_body=jsons.dumps(bc),encrypted_connection=\"Encrypted\",privacy_level=\"None\")\n",
        "\n",
        "api_url = f'https://api.powerbi.com/v1.0/myorg/gateways/{gateway_id}/datasources/{datasource_id}'       \n",
        "\n",
        "# Generate Embed token for multiple workspaces, datasets, and reports. Refer https://aka.ms/MultiResourceEmbedToken\n",
        "api_response = requests.patch(api_url,data=jsons.dumps(cd),headers=request_header)\n",
        "if api_response.status_code != 200:\n",
        "    description = f'Error while retrieving datasets:\\n  -Status Code:\\t{api_response.status_code}\\n  -Reason:\\t{api_response.reason}\\n  -RequestId:\\t{api_response.headers.get(\"RequestId\")}\\n  -Text:\\t{api_response.text}'\n",
        "    print(description)\n",
        "    #print(api_response.status_code, description=description)\n",
        "else:\n",
        "    api_response = json.loads(api_response.text)\n",
        "    print(json.dumps(api_response,indent=2))"
      ],
      "outputs": [],
      "execution_count": null,
      "metadata": {
        "jupyter": {
          "source_hidden": false,
          "outputs_hidden": false
        },
        "nteract": {
          "transient": {
            "deleting": false
          }
        },
        "gather": {
          "logged": 1712673957013
        }
      }
    },
    {
      "cell_type": "code",
      "source": [
        "#This gets the details of a specific the datasources used by a dataset\n",
        "import requests\n",
        "import json\n",
        "\n",
        "api_url = f'https://api.powerbi.com/v1.0/myorg/datasources'       \n",
        "\n",
        "# Generate Embed token for multiple workspaces, datasets, and reports. Refer https://aka.ms/MultiResourceEmbedToken\n",
        "api_response = requests.get(api_url, headers=request_header)\n",
        "if api_response.status_code != 200:\n",
        "    description = f'Error while retrieving datasets:\\n  -Status Code:\\t{api_response.status_code}\\n  -Reason:\\t{api_response.reason}\\n  -RequestId:\\t{api_response.headers.get(\"RequestId\")}\\n  -Text:\\t{api_response.text}'\n",
        "    print(description)\n",
        "    #print(api_response.status_code, description=description)\n",
        "else:\n",
        "    api_response = json.loads(api_response.text)\n",
        "    print(json.dumps(api_response,indent=2))"
      ],
      "outputs": [],
      "execution_count": null,
      "metadata": {
        "jupyter": {
          "source_hidden": false,
          "outputs_hidden": false
        },
        "nteract": {
          "transient": {
            "deleting": false
          }
        },
        "gather": {
          "logged": 1712328749004
        }
      }
    },
    {
      "cell_type": "code",
      "source": [],
      "outputs": [],
      "execution_count": null,
      "metadata": {
        "jupyter": {
          "source_hidden": false,
          "outputs_hidden": false
        },
        "nteract": {
          "transient": {
            "deleting": false
          }
        }
      }
    }
  ],
  "metadata": {
    "kernelspec": {
      "name": "python310-sdkv2",
      "language": "python",
      "display_name": "Python 3.10 - SDK v2"
    },
    "language_info": {
      "name": "python",
      "version": "3.10.11",
      "mimetype": "text/x-python",
      "codemirror_mode": {
        "name": "ipython",
        "version": 3
      },
      "pygments_lexer": "ipython3",
      "nbconvert_exporter": "python",
      "file_extension": ".py"
    },
    "microsoft": {
      "ms_spell_check": {
        "ms_spell_check_language": "en"
      },
      "host": {
        "AzureML": {
          "notebookHasBeenCompleted": true
        }
      }
    },
    "kernel_info": {
      "name": "python310-sdkv2"
    },
    "nteract": {
      "version": "nteract-front-end@1.0.0"
    }
  },
  "nbformat": 4,
  "nbformat_minor": 2
}