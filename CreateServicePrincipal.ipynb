{
  "cells": [
    {
      "cell_type": "markdown",
      "source": [
        "## Create Service Principal\n",
        "\n",
        "This code calls the Graph API to create a service principal.  This is a multi step process.\n",
        "\n",
        "1. Create the application and authentication secret.\n",
        "1. Grab the secret and appId from the API response.\n",
        "1. Store the secret and appId for later usage in KeyVault.\n",
        "1. Call the create Service Principal API with the appId to convert the new app to a service principal.\n",
        "\n",
        "Resources:\n",
        "\n",
        "1. Create Application - https://learn.microsoft.com/en-us/graph/api/application-post-applications?view=graph-rest-1.0&tabs=http ((Note, the identity you call this API from must have ApplicationReadWrite.All permissions)\n",
        "1. Create Service Principal - https://learn.microsoft.com/en-us/graph/api/serviceprincipal-post-serviceprincipals?view=graph-rest-1.0&tabs=http "
      ],
      "metadata": {
        "nteract": {
          "transient": {
            "deleting": false
          }
        }
      }
    },
    {
      "cell_type": "code",
      "source": [
        "pip install requests msal"
      ],
      "outputs": [],
      "execution_count": null,
      "metadata": {
        "gather": {
          "logged": 1715102090494
        }
      }
    },
    {
      "cell_type": "code",
      "source": [
        "tenantName = \"Tenant1\"\n",
        "keyVault = \"cgmmlservicevault\""
      ],
      "outputs": [],
      "execution_count": null,
      "metadata": {
        "jupyter": {
          "source_hidden": false,
          "outputs_hidden": false
        },
        "nteract": {
          "transient": {
            "deleting": false
          }
        },
        "gather": {
          "logged": 1715102091647
        }
      }
    },
    {
      "cell_type": "code",
      "source": [
        "#This leverages the code encapsulated in services/aadservice.py that encapsulates the service principle login.\n",
        "#Note: for most of the other notebooks we're not passing in a scope, this is because the code in aadservice.property\n",
        "#defaults the scope to a scope for the Power BI API.   Since we're calling the azure management API we need a different\n",
        "#scope.\n",
        "from services.aadservice import AadService\n",
        "scope = 'https://graph.microsoft.com/.default'\n",
        "cred = AadService.get_credential()\n",
        "\n",
        "#with the credential object, get the token for the azure management scope.\n",
        "aadToken = cred.get_token(scope).token\n",
        "headers =  {'Content-Type': 'application/json', 'Authorization': 'Bearer ' + aadToken}"
      ],
      "outputs": [],
      "execution_count": null,
      "metadata": {
        "jupyter": {
          "source_hidden": false,
          "outputs_hidden": false
        },
        "nteract": {
          "transient": {
            "deleting": false
          }
        },
        "gather": {
          "logged": 1715102094530
        }
      }
    },
    {
      "cell_type": "code",
      "source": [
        "import requests\n",
        "import json\n",
        "\n",
        "apiUrl = f'https://graph.microsoft.com/v1.0/applications'       \n",
        "\n",
        "body = {\n",
        "    \"displayName\": tenantName,\n",
        "    \"passwordCredentials\":[\n",
        "        {\n",
        "            \"displayName\": \"auth secret\"\n",
        "        }\n",
        "    ]\n",
        "}\n",
        "\n",
        "apiResponse = requests.post(apiUrl, headers=headers, data=json.dumps(body))\n",
        "\n",
        "#error handling for create capacity\n",
        "if apiResponse.status_code != 201 and apiResponse.status_code != 200:\n",
        "    description = f'Error creating capacity:\\n  -Status Code:\\t{apiResponse.status_code}\\n  -Reason:\\t{apiResponse.reason}\\n  -RequestId:\\t{apiResponse.headers.get(\"RequestId\")}\\n  -Text:\\t{apiResponse.text}'\n",
        "    print(description)\n",
        "else:\n",
        "    apiResponse = json.loads(apiResponse.text)\n",
        "    print(json.dumps(apiResponse,indent=2))"
      ],
      "outputs": [],
      "execution_count": null,
      "metadata": {
        "jupyter": {
          "source_hidden": false,
          "outputs_hidden": false
        },
        "nteract": {
          "transient": {
            "deleting": false
          }
        },
        "gather": {
          "logged": 1715102097170
        }
      }
    },
    {
      "cell_type": "code",
      "source": [
        "from services.secretservice import SecretService\n",
        "\n",
        "#Grab the app id and client secret for the created application.\n",
        "appId = apiResponse[\"appId\"]\n",
        "credentials = apiResponse[\"passwordCredentials\"]\n",
        "credential = credentials[0]\n",
        "secret = credential[\"secretText\"]\n",
        "\n",
        "#Here we're mocking up a tenantName to store the secrets under that corresponds to the name of the app we created.\n",
        "appIdKey = f'{tenantName}Id'\n",
        "appSecretKey = f'{tenantName}Secret'\n",
        "\n",
        "SecretService.store_secret_byname(keyVault, appIdKey, appId)\n",
        "SecretService.store_secret_byname(keyVault, appSecretKey, secret)"
      ],
      "outputs": [],
      "execution_count": null,
      "metadata": {
        "jupyter": {
          "source_hidden": false,
          "outputs_hidden": false
        },
        "nteract": {
          "transient": {
            "deleting": false
          }
        },
        "gather": {
          "logged": 1715102101457
        }
      }
    },
    {
      "cell_type": "code",
      "source": [
        "import requests\n",
        "import json\n",
        "\n",
        "#appId = str(uuid.uuid4())\n",
        "apiUrl = f'https://graph.microsoft.com/v1.0/servicePrincipals'       \n",
        "\n",
        "body = {\n",
        "  \"appId\": appId\n",
        "}\n",
        "\n",
        "apiResponse = requests.post(apiUrl, headers=headers, data=json.dumps(body))\n",
        "\n",
        "#error handling for create capacity\n",
        "if apiResponse.status_code != 201 and apiResponse.status_code != 200:\n",
        "    description = f'Error creating capacity:\\n  -Status Code:\\t{apiResponse.status_code}\\n  -Reason:\\t{apiResponse.reason}\\n  -RequestId:\\t{apiResponse.headers.get(\"RequestId\")}\\n  -Text:\\t{apiResponse.text}'\n",
        "    print(description)\n",
        "else:\n",
        "    apiResponse = json.loads(apiResponse.text)\n",
        "    print(json.dumps(apiResponse,indent=2))"
      ],
      "outputs": [],
      "execution_count": null,
      "metadata": {
        "jupyter": {
          "source_hidden": false,
          "outputs_hidden": false
        },
        "nteract": {
          "transient": {
            "deleting": false
          }
        }
      }
    }
  ],
  "metadata": {
    "kernelspec": {
      "name": "python310-sdkv2",
      "language": "python",
      "display_name": "Python 3.10 - SDK v2"
    },
    "language_info": {
      "name": "python",
      "version": "3.10.11",
      "mimetype": "text/x-python",
      "codemirror_mode": {
        "name": "ipython",
        "version": 3
      },
      "pygments_lexer": "ipython3",
      "nbconvert_exporter": "python",
      "file_extension": ".py"
    },
    "microsoft": {
      "ms_spell_check": {
        "ms_spell_check_language": "en"
      },
      "host": {
        "AzureML": {
          "notebookHasBeenCompleted": true
        }
      }
    },
    "kernel_info": {
      "name": "python310-sdkv2"
    },
    "nteract": {
      "version": "nteract-front-end@1.0.0"
    }
  },
  "nbformat": 4,
  "nbformat_minor": 2
}