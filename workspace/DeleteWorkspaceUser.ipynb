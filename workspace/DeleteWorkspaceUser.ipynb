{
  "cells": [
    {
      "cell_type": "markdown",
      "source": [
        "## Delete User in Group\n",
        "\n",
        "The API Nomenclature for Power BI Workspaces is \"Groups\"  Here we're looking at the API to remove a named user's access to a group.  This API can also be used with Service Principals (App), Groups, Users, and also Service Principle Profiles.  \n",
        "\n",
        "\n",
        "The API Documentation can be found here:https://learn.microsoft.com/en-us/rest/api/power-bi/groups/delete-user-in-group"
      ],
      "metadata": {
        "nteract": {
          "transient": {
            "deleting": false
          }
        }
      }
    },
    {
      "cell_type": "code",
      "source": [
        "pip install requests msal"
      ],
      "outputs": [],
      "execution_count": null,
      "metadata": {
        "gather": {
          "logged": 1716566474492
        }
      }
    },
    {
      "cell_type": "code",
      "source": [
        "#For orgaization purposes I put notbooks in subfolders not the root of the proejct.aad_token\n",
        "#This code adds the root directory of the project to the sys path so we can load class modules from the services folder\n",
        "#I think this only needs to be run once, but including it for completeness.\n",
        "import os, sys\n",
        "projectRoot = os.path.abspath('.')\n",
        "directory = os.path.dirname(projectRoot)\n",
        "if not directory in sys.path: sys.path.append(directory)"
      ],
      "outputs": [],
      "execution_count": null,
      "metadata": {
        "jupyter": {
          "source_hidden": false,
          "outputs_hidden": false
        },
        "nteract": {
          "transient": {
            "deleting": false
          }
        },
        "gather": {
          "logged": 1716566474621
        }
      }
    },
    {
      "cell_type": "code",
      "source": [
        "#This leverages the code encapsulated in services/aadservice.py that encapsulates the service principle login\n",
        "from services.aadservice import AadService\n",
        "aadToken = AadService.get_access_token()\n",
        "\n",
        "headers =  {'Content-Type': 'application/json', 'Authorization': 'Bearer ' + aadToken}"
      ],
      "outputs": [],
      "execution_count": null,
      "metadata": {
        "jupyter": {
          "source_hidden": false,
          "outputs_hidden": false
        },
        "nteract": {
          "transient": {
            "deleting": false
          }
        },
        "gather": {
          "logged": 1716566475485
        }
      }
    },
    {
      "cell_type": "code",
      "source": [
        "#This retreives the id of a workspace by name so we don't have hardcoded workspace ids in the code.\n",
        "import requests\n",
        "import json\n",
        "from services.env import const\n",
        "\n",
        "apiUrl = f'https://api.powerbi.com/v1.0/myorg/groups/'       \n",
        "workspaceId = \"\"\n",
        "\n",
        "apiResponse = requests.get(apiUrl, headers=headers)\n",
        "#error handling for createTemporaryUplodadLocation\n",
        "if apiResponse.status_code != 200:\n",
        "    description = f'Error creating workspace:\\n  -Status Code:\\t{apiResponse.status_code}\\n  -Reason:\\t{apiResponse.reason}\\n  -RequestId:\\t{apiResponse.headers.get(\"RequestId\")}\\n  -Text:\\t{apiResponse.text}'\n",
        "    print(description)\n",
        "else:\n",
        "    apiResponse = json.loads(apiResponse.text)\n",
        "    workspaces = apiResponse[\"value\"]\n",
        "    for workspace in workspaces:\n",
        "        if workspace[\"name\"] == const.workspaceName:\n",
        "            workspaceId = workspace[\"id\"]\n",
        "            \n",
        "print(f\"WorkspaceId is {workspaceId} \")"
      ],
      "outputs": [],
      "execution_count": null,
      "metadata": {
        "jupyter": {
          "source_hidden": false,
          "outputs_hidden": false
        },
        "nteract": {
          "transient": {
            "deleting": false
          }
        },
        "gather": {
          "logged": 1716566476487
        }
      }
    },
    {
      "cell_type": "code",
      "source": [
        "import requests\n",
        "import json\n",
        "from services.env import const \n",
        "\n",
        "apiUrl = f'https://api.powerbi.com/v1.0/myorg/groups/{workspaceId}/users/{const.globalAdminUser}'       \n",
        "\n",
        "apiResponse = requests.delete(apiUrl, headers=headers)\n",
        "#error handling for deleting a user\n",
        "if apiResponse.status_code != 200:\n",
        "    description = f'Error deleting user:\\n  -Status Code:\\t{apiResponse.status_code}\\n  -Reason:\\t{apiResponse.reason}\\n  -RequestId:\\t{apiResponse.headers.get(\"RequestId\")}\\n  -Text:\\t{apiResponse.text}'\n",
        "    print(description)\n",
        "else:\n",
        "    print(\"User removed\")"
      ],
      "outputs": [],
      "execution_count": null,
      "metadata": {
        "jupyter": {
          "source_hidden": false,
          "outputs_hidden": false
        },
        "nteract": {
          "transient": {
            "deleting": false
          }
        },
        "gather": {
          "logged": 1716566476587
        }
      }
    }
  ],
  "metadata": {
    "kernelspec": {
      "name": "python310-sdkv2",
      "language": "python",
      "display_name": "Python 3.10 - SDK v2"
    },
    "language_info": {
      "name": "python",
      "version": "3.10.11",
      "mimetype": "text/x-python",
      "codemirror_mode": {
        "name": "ipython",
        "version": 3
      },
      "pygments_lexer": "ipython3",
      "nbconvert_exporter": "python",
      "file_extension": ".py"
    },
    "microsoft": {
      "ms_spell_check": {
        "ms_spell_check_language": "en"
      },
      "host": {
        "AzureML": {
          "notebookHasBeenCompleted": true
        }
      }
    },
    "kernel_info": {
      "name": "python310-sdkv2"
    },
    "nteract": {
      "version": "nteract-front-end@1.0.0"
    }
  },
  "nbformat": 4,
  "nbformat_minor": 2
}