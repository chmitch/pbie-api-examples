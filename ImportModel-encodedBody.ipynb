{
  "cells": [
    {
      "cell_type": "code",
      "source": [
        "pip install requests msal jsons azure-storage-blob requests_toolbelt"
      ],
      "outputs": [],
      "execution_count": null,
      "metadata": {
        "gather": {
          "logged": 1712327993195
        }
      }
    },
    {
      "cell_type": "code",
      "source": [
        "from services.aadservice import AadService\n",
        "aad_token = AadService.get_access_token()\n",
        "\n",
        "request_header =  {'Content-Type': 'application/json', 'Authorization': 'Bearer ' + aad_token}"
      ],
      "outputs": [],
      "execution_count": null,
      "metadata": {
        "jupyter": {
          "source_hidden": false,
          "outputs_hidden": false
        },
        "nteract": {
          "transient": {
            "deleting": false
          }
        },
        "gather": {
          "logged": 1712327222101
        }
      }
    },
    {
      "cell_type": "code",
      "source": [
        "workspace_id=\"16453fea-cb0f-4ef4-b1b2-bede9d3b92be\"\n",
        "display_name=\"AdventureWorks\""
      ],
      "outputs": [],
      "execution_count": null,
      "metadata": {
        "jupyter": {
          "source_hidden": false,
          "outputs_hidden": false
        },
        "nteract": {
          "transient": {
            "deleting": false
          }
        },
        "gather": {
          "logged": 1712327223016
        }
      }
    },
    {
      "cell_type": "code",
      "source": [
        "import requests\n",
        "from requests_toolbelt.multipart.encoder import MultipartEncoder\n",
        "\n",
        "report_name = \"AdventureWorks\"\n",
        "\n",
        "url = f'https://api.powerbi.com/v1.0/myorg/groups/{workspace_id}/imports?datasetDisplayName={report_name}'\n",
        "headers = {\n",
        "    'Content-Type': 'multipart/form-data',\n",
        "    'authorization': 'Bearer ' + aad_token\n",
        "}\n",
        "file_location = 'files/AdventureWorks.pbix'\n",
        "# you need this dictionary to convert a binary file into form-data format\n",
        "# None here means we skip the filename and file content is important \n",
        "files = {'value': (None, open(file_location, 'rb'), 'multipart/form-data')}\n",
        "\n",
        "mp_encoder = MultipartEncoder(fields=files)\n",
        "\n",
        "r = requests.post(\n",
        "    url=url,\n",
        "    data=mp_encoder,  # The MultipartEncoder is posted as data, don't use files=...!\n",
        "    # The MultipartEncoder provides the content-type header with the boundary:\n",
        "    headers=headers\n",
        ")\n"
      ],
      "outputs": [],
      "execution_count": null,
      "metadata": {
        "jupyter": {
          "source_hidden": false,
          "outputs_hidden": false
        },
        "nteract": {
          "transient": {
            "deleting": false
          }
        },
        "gather": {
          "logged": 1712328090599
        }
      }
    }
  ],
  "metadata": {
    "kernelspec": {
      "name": "python310-sdkv2",
      "language": "python",
      "display_name": "Python 3.10 - SDK v2"
    },
    "language_info": {
      "name": "python",
      "version": "3.10.11",
      "mimetype": "text/x-python",
      "codemirror_mode": {
        "name": "ipython",
        "version": 3
      },
      "pygments_lexer": "ipython3",
      "nbconvert_exporter": "python",
      "file_extension": ".py"
    },
    "microsoft": {
      "ms_spell_check": {
        "ms_spell_check_language": "en"
      },
      "host": {
        "AzureML": {
          "notebookHasBeenCompleted": true
        }
      }
    },
    "kernel_info": {
      "name": "python310-sdkv2"
    },
    "nteract": {
      "version": "nteract-front-end@1.0.0"
    }
  },
  "nbformat": 4,
  "nbformat_minor": 2
}