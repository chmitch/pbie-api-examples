{
  "cells": [
    {
      "cell_type": "code",
      "source": [
        "pip install requests msal jsons azure-storage-blob requests_toolbelt"
      ],
      "outputs": [],
      "execution_count": null,
      "metadata": {
        "gather": {
          "logged": 1713208474694
        }
      }
    },
    {
      "cell_type": "code",
      "source": [
        "from services.aadservice import AadService\n",
        "aad_token = AadService.get_access_token()"
      ],
      "outputs": [],
      "execution_count": null,
      "metadata": {
        "jupyter": {
          "source_hidden": false,
          "outputs_hidden": false
        },
        "nteract": {
          "transient": {
            "deleting": false
          }
        },
        "gather": {
          "logged": 1713208477627
        }
      }
    },
    {
      "cell_type": "code",
      "source": [
        "workspace_id=\"16453fea-cb0f-4ef4-b1b2-bede9d3b92be\"\n",
        "display_name=\"NYCYellow.pbix\""
      ],
      "outputs": [],
      "execution_count": null,
      "metadata": {
        "jupyter": {
          "source_hidden": false,
          "outputs_hidden": false
        },
        "nteract": {
          "transient": {
            "deleting": false
          }
        },
        "gather": {
          "logged": 1713208482264
        }
      }
    },
    {
      "cell_type": "code",
      "source": [
        "from os import path\n",
        "#file_location = 'files/AdventureWorks.pbix'\n",
        "file_location = f'files/{display_name}'\n",
        "file_size = path.getsize(file_location)\n"
      ],
      "outputs": [],
      "execution_count": null,
      "metadata": {
        "jupyter": {
          "source_hidden": false,
          "outputs_hidden": false
        },
        "nteract": {
          "transient": {
            "deleting": false
          }
        },
        "gather": {
          "logged": 1713208485216
        }
      }
    },
    {
      "cell_type": "code",
      "source": [
        "import requests\n",
        "from requests_toolbelt.multipart.encoder import MultipartEncoder\n",
        "\n",
        "#This demonstrates loading files under 1GB\n",
        "if file_size < 1073741824:\n",
        "    print(\"File is less than 1GB this cell is loading the file as form data\")\n",
        "\n",
        "    url = f'https://api.powerbi.com/v1.0/myorg/groups/{workspace_id}/imports?datasetDisplayName={display_name}'\n",
        "    headers = {\n",
        "        'Content-Type': 'multipart/form-data',\n",
        "        'authorization': 'Bearer ' + aad_token\n",
        "    }\n",
        "\n",
        "    # you need this dictionary to convert a binary file into form-data format\n",
        "    # None here means we skip the filename and file content is important \n",
        "    files = {'value': (None, open(file_location, 'rb'), 'multipart/form-data')}\n",
        "\n",
        "    mp_encoder = MultipartEncoder(fields=files)\n",
        "    print(mp_encoder)\n",
        "    r = requests.post(\n",
        "        url=url,\n",
        "        data=mp_encoder,  # The MultipartEncoder is posted as data, don't use files=...!\n",
        "        # The MultipartEncoder provides the content-type header with the boundary:\n",
        "        headers=headers\n",
        "    )\n",
        "else:\n",
        "    print(\"File is larger than 1GB this cell did nothing\")\n"
      ],
      "outputs": [],
      "execution_count": null,
      "metadata": {
        "jupyter": {
          "source_hidden": false,
          "outputs_hidden": false
        },
        "nteract": {
          "transient": {
            "deleting": false
          }
        },
        "gather": {
          "logged": 1713208488283
        }
      }
    },
    {
      "cell_type": "code",
      "source": [
        "import requests\n",
        "import json\n",
        "from azure.storage.blob import BlobClient\n",
        "\n",
        "#This demonstrates loading files under 1GB\n",
        "if file_size >= 1073741824:\n",
        "    temp_url = \"\"\n",
        "\n",
        "    #Part 1:  Request a temporary blob location from the API.\n",
        "    api_url = f'https://api.powerbi.com/v1.0/myorg/groups/{workspace_id}/imports/createTemporaryUploadLocation'\n",
        "    headers =  {\n",
        "        'Content-Type': 'application/json',\n",
        "        'Authorization': 'Bearer ' + aad_token\n",
        "    } \n",
        "\n",
        "    api_response = requests.post(api_url, headers=headers)\n",
        "    #error handling for createTemporaryUplodadLocation\n",
        "    if api_response.status_code != 200:\n",
        "        description = f'Error requesting temp location:\\n  -Status Code:\\t{api_response.status_code}\\n  -Reason:\\t{api_response.reason}\\n  -RequestId:\\t{api_response.headers.get(\"RequestId\")}\\n  -Text:\\t{api_response.text}'\n",
        "        print(description)\n",
        "    else:\n",
        "        api_response = json.loads(api_response.text)\n",
        "        temp_url = api_response['url']\n",
        "\n",
        "    #Part 2:  Now that we have the temporary location, upload the file to it via the BlobClient\n",
        "    if temp_url != '':\n",
        "        client = BlobClient.from_blob_url(temp_url)\n",
        "        with open(file_location, 'rb') as data:\n",
        "            client.upload_blob(data)\n",
        "        print(f\"{file_location} uploaded\")\n",
        "    else:\n",
        "        print(\"No sas url specified.\")\n",
        "\n",
        "    #Part 3:   Call the import API with the temp location as 'fileUrl' in the body of the API call\n",
        "    api_url = f\"https://api.powerbi.com/v1.0/myorg/groups/{workspace_id}/imports?datasetDisplayName={display_name}&nameConflict=Ignore&skipReport=false&overrideReportLabel=true&overrideModelLabel=true\"\n",
        "\n",
        "    body = {\n",
        "        \"fileUrl\": temp_url\n",
        "    }\n",
        "\n",
        "    api_response = requests.post(\n",
        "        url=api_url,\n",
        "        headers=headers,\n",
        "        data=json.dumps(body)\n",
        "    )\n",
        "\n",
        "    if api_response.status_code != 200:\n",
        "        description = f'Error importing file:\\n  -Status Code:\\t{api_response.status_code}\\n  -Reason:\\t{api_response.reason}\\n  -RequestId:\\t{api_response.headers.get(\"RequestId\")}\\n  -Text:\\t{api_response.text}'\n",
        "        print(description)\n",
        "    else:\n",
        "        api_response = json.loads(api_response.text)\n",
        "        print(json.dumps(api_response,indent=2))\n"
      ],
      "outputs": [],
      "execution_count": null,
      "metadata": {
        "jupyter": {
          "source_hidden": false,
          "outputs_hidden": false
        },
        "nteract": {
          "transient": {
            "deleting": false
          }
        },
        "gather": {
          "logged": 1713208862434
        }
      }
    }
  ],
  "metadata": {
    "kernelspec": {
      "name": "python310-sdkv2",
      "language": "python",
      "display_name": "Python 3.10 - SDK v2"
    },
    "language_info": {
      "name": "python",
      "version": "3.10.11",
      "mimetype": "text/x-python",
      "codemirror_mode": {
        "name": "ipython",
        "version": 3
      },
      "pygments_lexer": "ipython3",
      "nbconvert_exporter": "python",
      "file_extension": ".py"
    },
    "microsoft": {
      "ms_spell_check": {
        "ms_spell_check_language": "en"
      },
      "host": {
        "AzureML": {
          "notebookHasBeenCompleted": true
        }
      }
    },
    "kernel_info": {
      "name": "python310-sdkv2"
    },
    "nteract": {
      "version": "nteract-front-end@1.0.0"
    }
  },
  "nbformat": 4,
  "nbformat_minor": 2
}