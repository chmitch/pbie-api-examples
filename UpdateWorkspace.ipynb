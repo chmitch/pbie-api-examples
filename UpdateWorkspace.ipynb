{
  "cells": [
    {
      "cell_type": "markdown",
      "source": [
        "## Update Group\n",
        "\n",
        "The API Nomenclature for Power BI Workspaces is \"Groups\"  Here we're looking at the API used to create a new Group.  This alters the properties of an exsiting workspace.  Note that the calling user must be an administrator, and certain properties can only be set if the Workspace is hosted on a premium capacity.\n",
        "\n",
        "The API Documentation can be found here: https://learn.microsoft.com/en-us/rest/api/power-bi/groups/update-group"
      ],
      "metadata": {
        "nteract": {
          "transient": {
            "deleting": false
          }
        }
      }
    },
    {
      "cell_type": "code",
      "source": [
        "pip install requests msal"
      ],
      "outputs": [],
      "execution_count": null,
      "metadata": {
        "gather": {
          "logged": 1713374832287
        }
      }
    },
    {
      "cell_type": "code",
      "source": [
        "#This leverages the code encapsulated in services/aadservice.py that encapsulates the service principle login\n",
        "from services.aadservice import AadService\n",
        "aad_token = AadService.get_access_token()\n",
        "\n",
        "headers =  {'Content-Type': 'application/json', 'Authorization': 'Bearer ' + AadService.get_access_token()}"
      ],
      "outputs": [],
      "execution_count": null,
      "metadata": {
        "jupyter": {
          "source_hidden": false,
          "outputs_hidden": false
        },
        "nteract": {
          "transient": {
            "deleting": false
          }
        },
        "gather": {
          "logged": 1713374835189
        }
      }
    },
    {
      "cell_type": "code",
      "source": [
        "workspace_id = \"60fe497e-8a54-4f41-b73c-903725ff5bb3\"\n",
        "workspace_name = \"Test Workspace2\"\n",
        "storage_format = \"Large\"  #https://learn.microsoft.com/en-us/rest/api/power-bi/groups/update-group#defaultdatasetstorageformat"
      ],
      "outputs": [],
      "execution_count": null,
      "metadata": {
        "jupyter": {
          "source_hidden": false,
          "outputs_hidden": false
        },
        "nteract": {
          "transient": {
            "deleting": false
          }
        },
        "gather": {
          "logged": 1713374836336
        }
      }
    },
    {
      "cell_type": "code",
      "source": [
        "import requests\n",
        "import json\n",
        "\n",
        "api_url = f'https://api.powerbi.com/v1.0/myorg/groups/{workspace_id}'       \n",
        "\n",
        "#Note:  The Storage Format only works if the workspace is on premium capacity.\n",
        "body = {\n",
        "  \"name\": workspace_name,\n",
        "  \"defaultDatasetStorageFormat\": storage_format\n",
        "}\n",
        "\n",
        "api_response = requests.patch(api_url, headers=headers, data=json.dumps(body))\n",
        "#error handling for workspace update\n",
        "if api_response.status_code != 200:\n",
        "    description = f'Error creating workspace:\\n  -Status Code:\\t{api_response.status_code}\\n  -Reason:\\t{api_response.reason}\\n  -RequestId:\\t{api_response.headers.get(\"RequestId\")}\\n  -Text:\\t{api_response.text}'\n",
        "    print(description)\n",
        "else:\n",
        "    print(f\"Workspace {workspace_id} updated\")"
      ],
      "outputs": [],
      "execution_count": null,
      "metadata": {
        "jupyter": {
          "source_hidden": false,
          "outputs_hidden": false
        },
        "nteract": {
          "transient": {
            "deleting": false
          }
        },
        "gather": {
          "logged": 1713374838272
        }
      }
    }
  ],
  "metadata": {
    "kernelspec": {
      "name": "python310-sdkv2",
      "language": "python",
      "display_name": "Python 3.10 - SDK v2"
    },
    "language_info": {
      "name": "python",
      "version": "3.10.11",
      "mimetype": "text/x-python",
      "codemirror_mode": {
        "name": "ipython",
        "version": 3
      },
      "pygments_lexer": "ipython3",
      "nbconvert_exporter": "python",
      "file_extension": ".py"
    },
    "microsoft": {
      "ms_spell_check": {
        "ms_spell_check_language": "en"
      },
      "host": {
        "AzureML": {
          "notebookHasBeenCompleted": true
        }
      }
    },
    "kernel_info": {
      "name": "python310-sdkv2"
    },
    "nteract": {
      "version": "nteract-front-end@1.0.0"
    }
  },
  "nbformat": 4,
  "nbformat_minor": 2
}