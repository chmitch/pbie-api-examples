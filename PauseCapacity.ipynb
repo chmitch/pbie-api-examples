{
  "cells": [
    {
      "cell_type": "markdown",
      "source": [
        "## Pause Capacity\n",
        "\n",
        "Fabric Capacity is an Azure Resource.  In order to be able to manipulate the capacity we need to leverage the azure management APIs.  If you need to keep, but stop incuring charges for provisioned Fabric capacity you use the suspend method of the resource.\n",
        "\n",
        "I was unable to find API documentation for this API.  I inferred the capabilities existed by referencing the Power Shell libraries for Power BI Embedded capacities:  https://learn.microsoft.com/en-us/powershell/module/az.powerbiembedded/suspend-azpowerbiembeddedcapacity?view=azps-11.5.0"
      ],
      "metadata": {
        "nteract": {
          "transient": {
            "deleting": false
          }
        }
      }
    },
    {
      "cell_type": "code",
      "source": [
        "pip install requests msal"
      ],
      "outputs": [],
      "execution_count": null,
      "metadata": {
        "gather": {
          "logged": 1714070006826
        }
      }
    },
    {
      "cell_type": "code",
      "source": [
        "#This leverages the code encapsulated in services/aadservice.py that encapsulates the service principle login.\n",
        "#Note: for most of the other notebooks we're not passing in a scope, this is because the code in aadservice.property\n",
        "#defaults the scope to a scope for the Power BI API.   Since we're calling the azure management API we need a different\n",
        "#scope.\n",
        "from services.aadservice import AadService\n",
        "scope = 'https://management.azure.com/.default'\n",
        "aad_token = AadService.get_access_token(scope)\n",
        "\n",
        "headers =  {'Content-Type': 'application/json', 'Authorization': 'Bearer ' + aad_token}"
      ],
      "outputs": [],
      "execution_count": null,
      "metadata": {
        "jupyter": {
          "source_hidden": false,
          "outputs_hidden": false
        },
        "nteract": {
          "transient": {
            "deleting": false
          }
        },
        "gather": {
          "logged": 1714070008973
        }
      }
    },
    {
      "cell_type": "code",
      "source": [
        "#Note the Service Principal calling the rest API needs to be granted contributor access to whatever resource group you \n",
        "#use here.  Otherwise the service principal\n",
        "resource_group = \"cgmpbie\"  \n",
        "\n",
        "capacity_name = \"cgmthisisatest\"\n",
        "\n",
        "#You need to set your own subscription id.\n",
        "subscription_id = \"7258b7d4-3429-4998-815b-8cd6954b7ef9\"\n",
        "\n",
        "#This can be an Email, or the object id (not application id) of the Service Prinicipal.\n",
        "administrators = ['chmitch@microsoftanalytics.info','6709b293-4789-477f-aee2-607b7139e63c']"
      ],
      "outputs": [],
      "execution_count": null,
      "metadata": {
        "jupyter": {
          "source_hidden": false,
          "outputs_hidden": false
        },
        "nteract": {
          "transient": {
            "deleting": false
          }
        },
        "gather": {
          "logged": 1714070014026
        }
      }
    },
    {
      "cell_type": "code",
      "source": [
        "import requests\n",
        "import json\n",
        "\n",
        "api_url = f'https://management.azure.com/subscriptions/{subscription_id}/resourceGroups/{resource_group}/providers/Microsoft.Fabric/capacities/{capacity_name}/suspend?api-version=2022-07-01-preview'       \n",
        "\n",
        "api_response = requests.post(api_url, headers=headers)#, data=json.dumps(body))\n",
        "\n",
        "#error handling for create capacity\n",
        "if api_response.status_code != 202:\n",
        "    description = f'Error pausing capacity:\\n  -Status Code:\\t{api_response.status_code}\\n  -Reason:\\t{api_response.reason}\\n  -RequestId:\\t{api_response.headers.get(\"RequestId\")}\\n  -Text:\\t{api_response.text}'\n",
        "    print(description)\n",
        "else:\n",
        "    print(\"Capacity paused\")"
      ],
      "outputs": [],
      "execution_count": null,
      "metadata": {
        "jupyter": {
          "source_hidden": false,
          "outputs_hidden": false
        },
        "nteract": {
          "transient": {
            "deleting": false
          }
        },
        "gather": {
          "logged": 1714070436772
        }
      }
    }
  ],
  "metadata": {
    "kernelspec": {
      "name": "python310-sdkv2",
      "language": "python",
      "display_name": "Python 3.10 - SDK v2"
    },
    "language_info": {
      "name": "python",
      "version": "3.10.11",
      "mimetype": "text/x-python",
      "codemirror_mode": {
        "name": "ipython",
        "version": 3
      },
      "pygments_lexer": "ipython3",
      "nbconvert_exporter": "python",
      "file_extension": ".py"
    },
    "microsoft": {
      "ms_spell_check": {
        "ms_spell_check_language": "en"
      },
      "host": {
        "AzureML": {
          "notebookHasBeenCompleted": true
        }
      }
    },
    "kernel_info": {
      "name": "python310-sdkv2"
    },
    "nteract": {
      "version": "nteract-front-end@1.0.0"
    }
  },
  "nbformat": 4,
  "nbformat_minor": 2
}