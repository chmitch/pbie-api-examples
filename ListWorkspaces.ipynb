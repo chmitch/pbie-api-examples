{
  "cells": [
    {
      "cell_type": "code",
      "source": [
        "pip install requests msal"
      ],
      "outputs": [
        {
          "output_type": "stream",
          "name": "stdout",
          "text": "Requirement already satisfied: requests in /anaconda/envs/azureml_py310_sdkv2/lib/python3.10/site-packages (2.31.0)\nRequirement already satisfied: msal in /anaconda/envs/azureml_py310_sdkv2/lib/python3.10/site-packages (1.22.0)\nRequirement already satisfied: charset-normalizer<4,>=2 in /anaconda/envs/azureml_py310_sdkv2/lib/python3.10/site-packages (from requests) (3.1.0)\nRequirement already satisfied: idna<4,>=2.5 in /anaconda/envs/azureml_py310_sdkv2/lib/python3.10/site-packages (from requests) (3.4)\nRequirement already satisfied: urllib3<3,>=1.21.1 in /anaconda/envs/azureml_py310_sdkv2/lib/python3.10/site-packages (from requests) (1.26.16)\nRequirement already satisfied: certifi>=2017.4.17 in /anaconda/envs/azureml_py310_sdkv2/lib/python3.10/site-packages (from requests) (2023.5.7)\nRequirement already satisfied: PyJWT[crypto]<3,>=1.0.0 in /anaconda/envs/azureml_py310_sdkv2/lib/python3.10/site-packages (from msal) (2.7.0)\nRequirement already satisfied: cryptography<43,>=0.6 in /anaconda/envs/azureml_py310_sdkv2/lib/python3.10/site-packages (from msal) (41.0.1)\nRequirement already satisfied: cffi>=1.12 in /anaconda/envs/azureml_py310_sdkv2/lib/python3.10/site-packages (from cryptography<43,>=0.6->msal) (1.15.1)\nRequirement already satisfied: pycparser in /anaconda/envs/azureml_py310_sdkv2/lib/python3.10/site-packages (from cffi>=1.12->cryptography<43,>=0.6->msal) (2.21)\nNote: you may need to restart the kernel to use updated packages.\n"
        }
      ],
      "execution_count": 3,
      "metadata": {
        "gather": {
          "logged": 1713368052875
        }
      }
    },
    {
      "cell_type": "code",
      "source": [
        "from services.aadservice import AadService\n",
        "aad_token = AadService.get_access_token()\n",
        "\n",
        "headers =  {'Content-Type': 'application/json', 'Authorization': 'Bearer ' + AadService.get_access_token()}"
      ],
      "outputs": [],
      "execution_count": 4,
      "metadata": {
        "jupyter": {
          "source_hidden": false,
          "outputs_hidden": false
        },
        "nteract": {
          "transient": {
            "deleting": false
          }
        },
        "gather": {
          "logged": 1713368061831
        }
      }
    },
    {
      "cell_type": "code",
      "source": [
        "import requests\n",
        "import json\n",
        "\n",
        "api_url = f'https://api.powerbi.com/v1.0/myorg/groups'       \n",
        "\n",
        "\n",
        "api_response = requests.get(api_url, headers=headers)\n",
        "#error handling for createTemporaryUplodadLocation\n",
        "if api_response.status_code != 200:\n",
        "    description = f'Error requesting workspaces:\\n  -Status Code:\\t{api_response.status_code}\\n  -Reason:\\t{api_response.reason}\\n  -RequestId:\\t{api_response.headers.get(\"RequestId\")}\\n  -Text:\\t{api_response.text}'\n",
        "    print(description)\n",
        "else:\n",
        "    api_response = json.loads(api_response.text)\n",
        "    print(json.dumps(api_response,indent=2))"
      ],
      "outputs": [
        {
          "output_type": "stream",
          "name": "stdout",
          "text": "{\n  \"@odata.context\": \"http://wabi-west-us3-a-primary-redirect.analysis.windows.net/v1.0/myorg/$metadata#groups\",\n  \"@odata.count\": 1,\n  \"value\": [\n    {\n      \"id\": \"16453fea-cb0f-4ef4-b1b2-bede9d3b92be\",\n      \"isReadOnly\": false,\n      \"isOnDedicatedCapacity\": true,\n      \"capacityId\": \"647BD112-0931-43FD-B90A-A7F57FC54DB2\",\n      \"defaultDatasetStorageFormat\": \"Small\",\n      \"type\": \"Workspace\",\n      \"name\": \"cgmapiplaground\"\n    }\n  ]\n}\n"
        }
      ],
      "execution_count": 5,
      "metadata": {
        "jupyter": {
          "source_hidden": false,
          "outputs_hidden": false
        },
        "nteract": {
          "transient": {
            "deleting": false
          }
        },
        "gather": {
          "logged": 1713368064287
        }
      }
    },
    {
      "cell_type": "code",
      "source": [],
      "outputs": [],
      "execution_count": null,
      "metadata": {
        "jupyter": {
          "source_hidden": false,
          "outputs_hidden": false
        },
        "nteract": {
          "transient": {
            "deleting": false
          }
        }
      }
    }
  ],
  "metadata": {
    "kernelspec": {
      "name": "python310-sdkv2",
      "language": "python",
      "display_name": "Python 3.10 - SDK v2"
    },
    "language_info": {
      "name": "python",
      "version": "3.10.11",
      "mimetype": "text/x-python",
      "codemirror_mode": {
        "name": "ipython",
        "version": 3
      },
      "pygments_lexer": "ipython3",
      "nbconvert_exporter": "python",
      "file_extension": ".py"
    },
    "microsoft": {
      "ms_spell_check": {
        "ms_spell_check_language": "en"
      },
      "host": {
        "AzureML": {
          "notebookHasBeenCompleted": true
        }
      }
    },
    "kernel_info": {
      "name": "python310-sdkv2"
    },
    "nteract": {
      "version": "nteract-front-end@1.0.0"
    }
  },
  "nbformat": 4,
  "nbformat_minor": 2
}